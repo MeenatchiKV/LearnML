{
  "nbformat": 4,
  "nbformat_minor": 0,
  "metadata": {
    "kernelspec": {
      "display_name": "Python 3",
      "language": "python",
      "name": "python3"
    },
    "language_info": {
      "codemirror_mode": {
        "name": "ipython",
        "version": 3
      },
      "file_extension": ".py",
      "mimetype": "text/x-python",
      "name": "python",
      "nbconvert_exporter": "python",
      "pygments_lexer": "ipython3",
      "version": "3.6.9"
    },
    "colab": {
      "name": "kerasMLP.ipynb",
      "provenance": [],
      "include_colab_link": true
    }
  },
  "cells": [
    {
      "cell_type": "markdown",
      "metadata": {
        "id": "view-in-github",
        "colab_type": "text"
      },
      "source": [
        "<a href=\"https://colab.research.google.com/github/MeenatchiKV/My-ML-Learnings/blob/master/keras_MLP_Basics.ipynb\" target=\"_parent\"><img src=\"https://colab.research.google.com/assets/colab-badge.svg\" alt=\"Open In Colab\"/></a>"
      ]
    },
    {
      "cell_type": "markdown",
      "metadata": {
        "id": "-U59umFBd0W3",
        "colab_type": "text"
      },
      "source": [
        "# Keras MLP"
      ]
    },
    {
      "cell_type": "code",
      "metadata": {
        "id": "riaZ4bm2d0W9",
        "colab_type": "code",
        "colab": {}
      },
      "source": [
        "from keras.models import Sequential\n",
        "\n",
        "model = Sequential()\n",
        "\n",
        "from keras.layers import Dense\n",
        "model.add(Dense(units=3,activation='sigmoid',input_dim=8))\n",
        "model.add(Dense(units=4,activation='sigmoid',input_dim=3))\n",
        "\n",
        "model.compile(loss='mean_squared_error',optimizer='sgd')\n",
        "\n",
        "input_data = [[0,0,0], [0,0,1], [0,1,0], [0,1,1], [1,0,0], [1,0,1], [1,1,0], [1,1,1]]\n",
        "output_data = [[0],[1],[0],[0],[1],[1],[1],[1]]\n",
        "model.fit(input_data,output_data)"
      ],
      "execution_count": null,
      "outputs": []
    },
    {
      "cell_type": "code",
      "metadata": {
        "id": "dgv1u2nFd0XH",
        "colab_type": "code",
        "colab": {},
        "outputId": "13106f2d-a859-45b0-cbb0-5f371287afaf"
      },
      "source": [
        "import tensorflow as tf\n",
        "from tensorflow import keras\n",
        "import numpy as np\n",
        "import matplotlib.pyplot as plt\n",
        "from keras.datasets import mnist\n",
        "from keras.models import Sequential\n",
        "from keras.layers import Dense\n",
        "\n",
        "(x_train,y_train),(x_test,y_test) = mnist.load_data()\n",
        "\n",
        "class_names = ['0','1','2','3','4','5','6','7','8','9']\n",
        "\n",
        "x_train = x_train / 255\n",
        "x_test = x_test / 255\n",
        "\n",
        "model = keras.Sequential([keras.layers.Flatten(input_shape=(28,28)),keras.layers.Dense(128,activation='relu'),keras.layers.Dense(10)])\n",
        "model.compile(optimizer='adam',loss=tf.keras.losses.SparseCategoricalCrossentropy(from_logits=True),metrics=['accuracy'])\n",
        "model.fit(x_train,y_train,epochs=10)\n",
        "test_loss,test_acc = model.evaluate(x_test,y_test,verbose=2)\n",
        "print('test accuracy: ',test_acc)\n",
        "\n",
        "probability_model = tf.keras.Sequential([model,tf.keras.layers.Softmax()])\n",
        "predictions = probability_model.predict(x_test)\n",
        "print(predictions[0])\n",
        "\n",
        "class_id = np.argmax(predictions[0])\n",
        "print(\"predicted char: \", class_names[class_id])"
      ],
      "execution_count": null,
      "outputs": [
        {
          "output_type": "stream",
          "text": [
            "Epoch 1/10\n",
            "60000/60000 [==============================] - 3s 51us/sample - loss: 0.2593 - acc: 0.9265\n",
            "Epoch 2/10\n",
            "60000/60000 [==============================] - 3s 56us/sample - loss: 0.1125 - acc: 0.9666\n",
            "Epoch 3/10\n",
            "60000/60000 [==============================] - 3s 56us/sample - loss: 0.0779 - acc: 0.9768\n",
            "Epoch 4/10\n",
            "60000/60000 [==============================] - 3s 56us/sample - loss: 0.0585 - acc: 0.9823\n",
            "Epoch 5/10\n",
            "60000/60000 [==============================] - 3s 56us/sample - loss: 0.0452 - acc: 0.9863\n",
            "Epoch 6/10\n",
            "60000/60000 [==============================] - 3s 55us/sample - loss: 0.0361 - acc: 0.9887\n",
            "Epoch 7/10\n",
            "60000/60000 [==============================] - 3s 55us/sample - loss: 0.0278 - acc: 0.9915\n",
            "Epoch 8/10\n",
            "60000/60000 [==============================] - 3s 53us/sample - loss: 0.0233 - acc: 0.9922\n",
            "Epoch 9/10\n",
            "60000/60000 [==============================] - 3s 55us/sample - loss: 0.0183 - acc: 0.9942\n",
            "Epoch 10/10\n",
            "60000/60000 [==============================] - 3s 55us/sample - loss: 0.0156 - acc: 0.9952\n",
            "10000/10000 - 0s - loss: 0.0780 - acc: 0.9787\n",
            "test accuracy:  0.9787\n",
            "predicted char:  7\n"
          ],
          "name": "stdout"
        }
      ]
    }
  ]
}
