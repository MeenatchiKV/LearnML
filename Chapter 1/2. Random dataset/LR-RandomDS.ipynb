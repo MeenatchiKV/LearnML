{
 "cells": [
  {
   "cell_type": "markdown",
   "metadata": {},
   "source": [
    "# LINEAR REGRESSION ON A RANDON DATASET"
   ]
  },
  {
   "cell_type": "markdown",
   "metadata": {},
   "source": [
    "Given a Random dataset with two columns x - feature and y - label. We are going to use the Linear Regression for creating a model for the dataset."
   ]
  },
  {
   "cell_type": "markdown",
   "metadata": {},
   "source": [
    "Importing all the necessary python packages\n",
    "\n",
    "pandas for dataframe handling, numpy for efficient matrix calculations\n",
    "matplotlib for data visualization, sklearn for importing well known ML Algorithms"
   ]
  },
  {
   "cell_type": "code",
   "execution_count": 1,
   "metadata": {},
   "outputs": [],
   "source": [
    "import pandas as pd\n",
    "import math\n",
    "import matplotlib.pyplot as plt\n",
    "from matplotlib import style\n",
    "import numpy as np\n",
    "from sklearn import preprocessing, model_selection\n",
    "from sklearn.linear_model import LinearRegression\n",
    "\n",
    "style.use('fivethirtyeight')"
   ]
  },
  {
   "cell_type": "markdown",
   "metadata": {},
   "source": [
    "Reading in the two datasets. One for training and the other for testing."
   ]
  },
  {
   "cell_type": "code",
   "execution_count": 2,
   "metadata": {
    "scrolled": true
   },
   "outputs": [
    {
     "name": "stdout",
     "output_type": "stream",
     "text": [
      "    x          y\n",
      "0  24  21.549452\n",
      "1  50  47.464463\n",
      "2  15  17.218656\n",
      "3  38  36.586398\n",
      "4  87  87.288984\n",
      "    x          y\n",
      "0  77  79.775152\n",
      "1  21  23.177279\n",
      "2  22  25.609262\n",
      "3  20  17.857388\n",
      "4  36  41.849864\n",
      "<class 'pandas.core.frame.DataFrame'>\n",
      "RangeIndex: 699 entries, 0 to 698\n",
      "Data columns (total 2 columns):\n",
      "x    699 non-null int64\n",
      "y    699 non-null float64\n",
      "dtypes: float64(1), int64(1)\n",
      "memory usage: 11.0 KB\n",
      "None\n"
     ]
    }
   ],
   "source": [
    "train = pd.read_csv('dataset/train.csv')\n",
    "test = pd.read_csv('dataset/test.csv')\n",
    "\n",
    "print(train.head())\n",
    "print(test.head())\n",
    "print(train.info())\n"
   ]
  },
  {
   "cell_type": "markdown",
   "metadata": {},
   "source": [
    "Extracting features and labels from the training and testing datasets.\n",
    "i.e., seperating the x and y\n",
    "\n",
    "In sklearn, when the feature or label has only one column then it is necessary to reshape the numpy array to (-1,1). i.e., any number of rows and 1 column.\n",
    "\n",
    "While the array has only one row of the dataset, it is necessary to reshape the numpy array in the form (1,-1). i.e., one row and any number of column."
   ]
  },
  {
   "cell_type": "code",
   "execution_count": 3,
   "metadata": {},
   "outputs": [],
   "source": [
    "x_train = np.array([train['x']],dtype=np.int64).reshape(-1, 1)\n",
    "y_train = np.array([train['y']],dtype=np.float64).reshape(-1, 1)\n",
    "x_test = np.array([test['x']],dtype=np.int64).reshape(-1, 1)\n",
    "y_test = np.array([test['y']],dtype=np.float64).reshape(-1, 1)\n",
    "\n",
    "#x_train = preprocessing.scale(x_train)\n",
    "#x_teat = preprocessing.scale(x_test)"
   ]
  },
  {
   "cell_type": "markdown",
   "metadata": {},
   "source": [
    "Visualization of the training dataset."
   ]
  },
  {
   "cell_type": "code",
   "execution_count": 4,
   "metadata": {
    "scrolled": true
   },
   "outputs": [
    {
     "data": {
      "image/png": "[encoded data removed]",
      "text/plain": [
       "<Figure size 432x288 with 1 Axes>"
      ]
     },
     "metadata": {
      "needs_background": "light"
     },
     "output_type": "display_data"
    }
   ],
   "source": [
    "plt.scatter(x_train,y_train)\n",
    "plt.show()"
   ]
  },
  {
   "cell_type": "markdown",
   "metadata": {},
   "source": [
    "Creating a linear Regression model.\n",
    "Define a model and fit that into the training data. \n",
    "the accuracy is the score generated fromthe testing data."
   ]
  },
  {
   "cell_type": "code",
   "execution_count": 5,
   "metadata": {},
   "outputs": [
    {
     "name": "stdout",
     "output_type": "stream",
     "text": [
      "0.9888014444327563\n"
     ]
    }
   ],
   "source": [
    "clf = LinearRegression()\n",
    "clf.fit(x_train,y_train)\n",
    "acc = clf.score(x_test,y_test)\n",
    "\n",
    "print(acc)"
   ]
  },
  {
   "cell_type": "markdown",
   "metadata": {},
   "source": [
    "Give Some Random Value as a test input.\n",
    "The input is reshaped to (1,-1) to indicate there is only one sample of data."
   ]
  },
  {
   "cell_type": "code",
   "execution_count": 6,
   "metadata": {},
   "outputs": [
    {
     "name": "stdout",
     "output_type": "stream",
     "text": [
      "[[3532.36723495]]\n"
     ]
    }
   ],
   "source": [
    "x = [3530.15736917]\n",
    "x = np.array(x).reshape(1,-1)\n",
    "y = clf.predict(x)\n",
    "print(y)"
   ]
  }
 ],
 "metadata": {
  "kernelspec": {
   "display_name": ".kernal",
   "language": "python",
   "name": ".kernal"
  },
  "language_info": {
   "codemirror_mode": {
    "name": "ipython",
    "version": 3
   },
   "file_extension": ".py",
   "mimetype": "text/x-python",
   "name": "python",
   "nbconvert_exporter": "python",
   "pygments_lexer": "ipython3",
   "version": "3.6.3"
  }
 },
 "nbformat": 4,
 "nbformat_minor": 2
}
