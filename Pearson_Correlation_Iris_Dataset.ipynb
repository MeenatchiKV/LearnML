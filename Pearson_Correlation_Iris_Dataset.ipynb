{
  "nbformat": 4,
  "nbformat_minor": 0,
  "metadata": {
    "colab": {
      "name": "Pearson Correlation Iris Dataset.ipynb",
      "provenance": [],
      "collapsed_sections": [],
      "authorship_tag": "ABX9TyMhGMGhc1n8plJx0EWG5yxc",
      "include_colab_link": true
    },
    "kernelspec": {
      "name": "python3",
      "display_name": "Python 3"
    }
  },
  "cells": [
    {
      "cell_type": "markdown",
      "metadata": {
        "id": "view-in-github",
        "colab_type": "text"
      },
      "source": [
        "<a href=\"https://colab.research.google.com/github/MeenatchiKV/My-ML-Learnings/blob/master/Pearson_Correlation_Iris_Dataset.ipynb\" target=\"_parent\"><img src=\"https://colab.research.google.com/assets/colab-badge.svg\" alt=\"Open In Colab\"/></a>"
      ]
    },
    {
      "cell_type": "markdown",
      "metadata": {
        "id": "4NGtWQqVDewE",
        "colab_type": "text"
      },
      "source": [
        "## **Pearson Correlation**\n",
        "\n",
        "Drop Features having Pearson correlation more than 0.85\n",
        "\n",
        "Import necessary modules"
      ]
    },
    {
      "cell_type": "code",
      "metadata": {
        "id": "Tyyv2Jj59B2s",
        "colab_type": "code",
        "colab": {}
      },
      "source": [
        "from numpy import mean\n",
        "from numpy import std\n",
        "from numpy.random import seed\n",
        "# seed random number generator\n",
        "seed(1)\n",
        "import pandas as pd\n"
      ],
      "execution_count": null,
      "outputs": []
    },
    {
      "cell_type": "markdown",
      "metadata": {
        "id": "VgtzQiCV_Nw2",
        "colab_type": "text"
      },
      "source": [
        "Load Dataset\n",
        "\n",
        "Chosen Dataset: Iris Dataset"
      ]
    },
    {
      "cell_type": "code",
      "metadata": {
        "id": "X7BD69Ly_Fwq",
        "colab_type": "code",
        "colab": {
          "base_uri": "https://localhost:8080/",
          "height": 204
        },
        "outputId": "b501fb5b-ac7c-468f-f067-cf1832dae20c"
      },
      "source": [
        "path = \"https://raw.githubusercontent.com/uiuc-cse/data-fa14/gh-pages/data/iris.csv\"\n",
        "df = pd.read_csv(path)\n",
        "df.head()"
      ],
      "execution_count": null,
      "outputs": [
        {
          "output_type": "execute_result",
          "data": {
            "text/html": [
              "<div>\n",
              "<style scoped>\n",
              "    .dataframe tbody tr th:only-of-type {\n",
              "        vertical-align: middle;\n",
              "    }\n",
              "\n",
              "    .dataframe tbody tr th {\n",
              "        vertical-align: top;\n",
              "    }\n",
              "\n",
              "    .dataframe thead th {\n",
              "        text-align: right;\n",
              "    }\n",
              "</style>\n",
              "<table border=\"1\" class=\"dataframe\">\n",
              "  <thead>\n",
              "    <tr style=\"text-align: right;\">\n",
              "      <th></th>\n",
              "      <th>sepal_length</th>\n",
              "      <th>sepal_width</th>\n",
              "      <th>petal_length</th>\n",
              "      <th>petal_width</th>\n",
              "      <th>species</th>\n",
              "    </tr>\n",
              "  </thead>\n",
              "  <tbody>\n",
              "    <tr>\n",
              "      <th>0</th>\n",
              "      <td>5.1</td>\n",
              "      <td>3.5</td>\n",
              "      <td>1.4</td>\n",
              "      <td>0.2</td>\n",
              "      <td>setosa</td>\n",
              "    </tr>\n",
              "    <tr>\n",
              "      <th>1</th>\n",
              "      <td>4.9</td>\n",
              "      <td>3.0</td>\n",
              "      <td>1.4</td>\n",
              "      <td>0.2</td>\n",
              "      <td>setosa</td>\n",
              "    </tr>\n",
              "    <tr>\n",
              "      <th>2</th>\n",
              "      <td>4.7</td>\n",
              "      <td>3.2</td>\n",
              "      <td>1.3</td>\n",
              "      <td>0.2</td>\n",
              "      <td>setosa</td>\n",
              "    </tr>\n",
              "    <tr>\n",
              "      <th>3</th>\n",
              "      <td>4.6</td>\n",
              "      <td>3.1</td>\n",
              "      <td>1.5</td>\n",
              "      <td>0.2</td>\n",
              "      <td>setosa</td>\n",
              "    </tr>\n",
              "    <tr>\n",
              "      <th>4</th>\n",
              "      <td>5.0</td>\n",
              "      <td>3.6</td>\n",
              "      <td>1.4</td>\n",
              "      <td>0.2</td>\n",
              "      <td>setosa</td>\n",
              "    </tr>\n",
              "  </tbody>\n",
              "</table>\n",
              "</div>"
            ],
            "text/plain": [
              "   sepal_length  sepal_width  petal_length  petal_width species\n",
              "0           5.1          3.5           1.4          0.2  setosa\n",
              "1           4.9          3.0           1.4          0.2  setosa\n",
              "2           4.7          3.2           1.3          0.2  setosa\n",
              "3           4.6          3.1           1.5          0.2  setosa\n",
              "4           5.0          3.6           1.4          0.2  setosa"
            ]
          },
          "metadata": {
            "tags": []
          },
          "execution_count": 20
        }
      ]
    },
    {
      "cell_type": "markdown",
      "metadata": {
        "id": "bAGmWIduDtZT",
        "colab_type": "text"
      },
      "source": [
        "The following are the columns in the dataset"
      ]
    },
    {
      "cell_type": "code",
      "metadata": {
        "id": "sn5tGBq2C6DO",
        "colab_type": "code",
        "colab": {
          "base_uri": "https://localhost:8080/",
          "height": 68
        },
        "outputId": "7fab0712-db6c-4b77-ab6f-ef05b22cb258"
      },
      "source": [
        "df.columns"
      ],
      "execution_count": null,
      "outputs": [
        {
          "output_type": "execute_result",
          "data": {
            "text/plain": [
              "Index(['sepal_length', 'sepal_width', 'petal_length', 'petal_width',\n",
              "       'species'],\n",
              "      dtype='object')"
            ]
          },
          "metadata": {
            "tags": []
          },
          "execution_count": 21
        }
      ]
    },
    {
      "cell_type": "code",
      "metadata": {
        "id": "SiFD765yCmEZ",
        "colab_type": "code",
        "colab": {
          "base_uri": "https://localhost:8080/",
          "height": 221
        },
        "outputId": "53a59963-b6f3-4f56-827b-194f74f37a50"
      },
      "source": [
        "df.info()"
      ],
      "execution_count": null,
      "outputs": [
        {
          "output_type": "stream",
          "text": [
            "<class 'pandas.core.frame.DataFrame'>\n",
            "RangeIndex: 150 entries, 0 to 149\n",
            "Data columns (total 5 columns):\n",
            " #   Column        Non-Null Count  Dtype  \n",
            "---  ------        --------------  -----  \n",
            " 0   sepal_length  150 non-null    float64\n",
            " 1   sepal_width   150 non-null    float64\n",
            " 2   petal_length  150 non-null    float64\n",
            " 3   petal_width   150 non-null    float64\n",
            " 4   species       150 non-null    object \n",
            "dtypes: float64(4), object(1)\n",
            "memory usage: 6.0+ KB\n"
          ],
          "name": "stdout"
        }
      ]
    },
    {
      "cell_type": "markdown",
      "metadata": {
        "id": "71kur6qKD-JM",
        "colab_type": "text"
      },
      "source": [
        "Seperating features and columns\n",
        "\n",
        "Not slicing the dataset. But just getting the column names"
      ]
    },
    {
      "cell_type": "code",
      "metadata": {
        "id": "_8GMPxGmC_z2",
        "colab_type": "code",
        "colab": {}
      },
      "source": [
        "features = ['sepal_length', 'sepal_width', 'petal_length', 'petal_width']\n",
        "classes = ['species']"
      ],
      "execution_count": null,
      "outputs": []
    },
    {
      "cell_type": "markdown",
      "metadata": {
        "id": "79MjM9UOEGYM",
        "colab_type": "text"
      },
      "source": [
        "Calculating the pearson coefficients for every pair of features.\n",
        "\n",
        "The following function creates a dictionary called pearson_dict. The pearson_dict will hold information regarding pairs of variables that have pearason correlation of more than 0.85. pearson_dict will contain a key,value pair where the key is the variable name and value is a list in the form [count,[related_feature]]\n",
        "pearson_dict =  {var:[count,[related_feature]]}\n",
        "\n",
        "that is count implies the number of other attributes the 'var' is related to. and the following list contains those other attributes."
      ]
    },
    {
      "cell_type": "code",
      "metadata": {
        "id": "oO7CuqcDF9ll",
        "colab_type": "code",
        "colab": {
          "base_uri": "https://localhost:8080/",
          "height": 54
        },
        "outputId": "58a4f999-5e37-4632-bb66-a4189ade59b5"
      },
      "source": [
        "from scipy.stats import pearsonr\n",
        "pearson_dict = {}\n",
        "def calc_pearson(features):\n",
        "  #pearson_dict = {}\n",
        "  n = len(features)\n",
        "  for _ in range(n):\n",
        "    pearson_dict[features[_]]=[0,[]]\n",
        "\n",
        "  for i in range(n-1):\n",
        "    for j in range(i+1,n):\n",
        "      n_name=features[i]+'-'+features[j]\n",
        "      corr,_ = pearsonr(df[features[i]],df[features[j]])\n",
        "      if corr>0.85:\n",
        "        pearson_dict[features[i]][0] = pearson_dict[features[i]][0] + 1\n",
        "        pearson_dict[features[i]][1].append(features[j])\n",
        "        pearson_dict[features[j]][0] = pearson_dict[features[j]][0] + 1\n",
        "        pearson_dict[features[j]][1].append(features[i])\n",
        "\n",
        "  print(pearson_dict)\n",
        "\n",
        "\n",
        "calc_pearson(features)"
      ],
      "execution_count": null,
      "outputs": [
        {
          "output_type": "stream",
          "text": [
            "{'sepal_length': [1, ['petal_length']], 'sepal_width': [0, []], 'petal_length': [2, ['sepal_length', 'petal_width']], 'petal_width': [1, ['petal_length']]}\n"
          ],
          "name": "stdout"
        }
      ]
    },
    {
      "cell_type": "markdown",
      "metadata": {
        "id": "negfbCW6FN8h",
        "colab_type": "text"
      },
      "source": [
        "{'sepal_length': [1, ['petal_length']], 'sepal_width': [0, []], 'petal_length': [2, ['sepal_length', 'petal_width']], 'petal_width': [1, ['petal_length']]}\n",
        "\n",
        "The above dictionary is explained here:\n",
        "\n",
        "sepal_length is related to 1 other variable - petal_length\n",
        "\n",
        "sepal_width is not related to any variable\n",
        "\n",
        "petal_length is related to 2 other variables - sepal_length and petal_width\n",
        "\n",
        "petal_width is related to 1 other variable - petal_length\n"
      ]
    },
    {
      "cell_type": "code",
      "metadata": {
        "id": "6EjANACEZ8Pk",
        "colab_type": "code",
        "colab": {
          "base_uri": "https://localhost:8080/",
          "height": 51
        },
        "outputId": "a03c7aa9-642f-4da5-e0bd-2903142c1e1f"
      },
      "source": [
        "max_val = -1\n",
        "max_key = []\n",
        "for k,v in pearson_dict.items():\n",
        "  if v[0] > max_val:\n",
        "    max_val = v[0]\n",
        "    max_key = [k]\n",
        "    continue\n",
        "  if v[0] == max_val:\n",
        "    max_key.append(k)\n",
        "\n",
        "print(max_key)\n",
        "print(max_val)"
      ],
      "execution_count": null,
      "outputs": [
        {
          "output_type": "stream",
          "text": [
            "['petal_length']\n",
            "2\n"
          ],
          "name": "stdout"
        }
      ]
    },
    {
      "cell_type": "markdown",
      "metadata": {
        "id": "0um3pTSTFuvp",
        "colab_type": "text"
      },
      "source": [
        "The above code takes into account the maximum count value and the list of variables with that count value.\n",
        "\n",
        "that is , max_val = max(count)\n",
        "\n",
        "max_key = list of variable with count = max_val"
      ]
    },
    {
      "cell_type": "code",
      "metadata": {
        "id": "OMVSb4SPWVfb",
        "colab_type": "code",
        "colab": {
          "base_uri": "https://localhost:8080/",
          "height": 51
        },
        "outputId": "3dedffaa-4bde-49a0-fd9a-1e6e27a578be"
      },
      "source": [
        "for m in max_key:\n",
        "  maxx = pearson_dict[m]\n",
        "  for _ in range(maxx[0]):\n",
        "    pearson_dict[maxx[1][_]][0]= pearson_dict[maxx[1][_]][0] - 1\n",
        "    pearson_dict[maxx[1][_]][1].remove(m)\n",
        "  del pearson_dict[m]\n",
        "  features.remove(m)\n",
        "\n",
        "  print(pearson_dict)\n",
        "  print(features)"
      ],
      "execution_count": null,
      "outputs": [
        {
          "output_type": "stream",
          "text": [
            "{'sepal_length': [0, []], 'sepal_width': [0, []], 'petal_width': [0, []]}\n",
            "['sepal_length', 'sepal_width', 'petal_width']\n"
          ],
          "name": "stdout"
        }
      ]
    },
    {
      "cell_type": "markdown",
      "metadata": {
        "id": "t4f9EjpxGDNY",
        "colab_type": "text"
      },
      "source": [
        "Now the above code deletes the max_key variables from the pearson_dict and the rest are the necessary unrelated features.\n",
        "\n",
        "---\n",
        "\n",
        "\n",
        "\n",
        "---\n",
        "\n"
      ]
    }
  ]
}