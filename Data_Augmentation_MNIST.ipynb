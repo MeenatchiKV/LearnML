{
  "nbformat": 4,
  "nbformat_minor": 0,
  "metadata": {
    "kernelspec": {
      "name": "python3",
      "display_name": "Python 3"
    },
    "language_info": {
      "codemirror_mode": {
        "name": "ipython",
        "version": 3
      },
      "file_extension": ".py",
      "mimetype": "text/x-python",
      "name": "python",
      "nbconvert_exporter": "python",
      "pygments_lexer": "ipython3",
      "version": "3.6.9"
    },
    "colab": {
      "name": "Data-Augmentation-MNIST.ipynb",
      "provenance": [],
      "collapsed_sections": [],
      "include_colab_link": true
    },
    "accelerator": "GPU"
  },
  "cells": [
    {
      "cell_type": "markdown",
      "metadata": {
        "id": "view-in-github",
        "colab_type": "text"
      },
      "source": [
        "<a href=\"https://colab.research.google.com/github/MeenatchiKV/My-ML-Learnings/blob/master/Data_Augmentation_MNIST.ipynb\" target=\"_parent\"><img src=\"https://colab.research.google.com/assets/colab-badge.svg\" alt=\"Open In Colab\"/></a>"
      ]
    },
    {
      "cell_type": "code",
      "metadata": {
        "id": "pTYVzSlwIu_M",
        "colab_type": "code",
        "colab": {
          "base_uri": "https://localhost:8080/",
          "height": 367
        },
        "outputId": "4c9b504d-a8d6-4415-cf60-b023620cd836"
      },
      "source": [
        "# Save augmented images to file\n",
        "from keras.datasets import mnist\n",
        "from keras.preprocessing.image import ImageDataGenerator\n",
        "from matplotlib import pyplot\n",
        "import os\n",
        "# load data\n",
        "(X_train, y_train), (X_test, y_test) = mnist.load_data()\n",
        "# reshape to be [samples][width][height][channels]\n",
        "X_train = X_train.reshape((X_train.shape[0], 28, 28, 1))\n",
        "X_test = X_test.reshape((X_test.shape[0], 28, 28, 1))\n",
        "# convert from int to float\n",
        "X_train = X_train.astype('float32')\n",
        "X_test = X_test.astype('float32')\n",
        "# define data preparation\n",
        "datagen = ImageDataGenerator()\n",
        "# fit parameters from data\n",
        "datagen.fit(X_train)\n",
        "# configure batch size and retrieve one batch of images\n",
        "os.makedirs('images')\n",
        "for X_batch, y_batch in datagen.flow(X_train, y_train, batch_size=9, save_to_dir='images', save_prefix='aug', save_format='png'):\n",
        "\t# create a grid of 3x3 images\n",
        "\tfor i in range(0, 9):\n",
        "\t\tpyplot.subplot(330 + 1 + i)\n",
        "\t\tpyplot.imshow(X_batch[i].reshape(28, 28), cmap=pyplot.get_cmap('gray'))\n",
        "\t# show the plot\n",
        "\tpyplot.show()\n",
        "\tbreak"
      ],
      "execution_count": null,
      "outputs": [
        {
          "output_type": "stream",
          "text": [
            "Using TensorFlow backend.\n"
          ],
          "name": "stderr"
        },
        {
          "output_type": "display_data",
          "data": {
            "text/html": [
              "<p style=\"color: red;\">\n",
              "The default version of TensorFlow in Colab will soon switch to TensorFlow 2.x.<br>\n",
              "We recommend you <a href=\"https://www.tensorflow.org/guide/migrate\" target=\"_blank\">upgrade</a> now \n",
              "or ensure your notebook will continue to use TensorFlow 1.x via the <code>%tensorflow_version 1.x</code> magic:\n",
              "<a href=\"https://colab.research.google.com/notebooks/tensorflow_version.ipynb\" target=\"_blank\">more info</a>.</p>\n"
            ],
            "text/plain": [
              "<IPython.core.display.HTML object>"
            ]
          },
          "metadata": {
            "tags": []
          }
        },
        {
          "output_type": "stream",
          "text": [
            "Downloading data from https://s3.amazonaws.com/img-datasets/mnist.npz\n",
            "11493376/11490434 [==============================] - 1s 0us/step\n"
          ],
          "name": "stdout"
        },
        {
          "output_type": "display_data",
          "data": {
            "image/png": "[encoded data removed]",
            "text/plain": [
              "<Figure size 432x288 with 9 Axes>"
            ]
          },
          "metadata": {
            "tags": []
          }
        }
      ]
    },
    {
      "cell_type": "code",
      "metadata": {
        "id": "ZHHZ8Xc-Iu_f",
        "colab_type": "code",
        "colab": {
          "base_uri": "https://localhost:8080/",
          "height": 268
        },
        "outputId": "e5e43c37-24e9-48cf-ba63-65e6e5dbc4c4"
      },
      "source": [
        "datagen = ImageDataGenerator(rotation_range=90)\n",
        "# fit parameters from data\n",
        "datagen.fit(X_train)\n",
        "# configure batch size and retrieve one batch of images\n",
        "#os.makedirs('images')\n",
        "for X_batch, y_batch in datagen.flow(X_train, y_train, batch_size=9, save_to_dir='images', save_prefix='aug', save_format='png'):\n",
        "\t# create a grid of 3x3 images\n",
        "\tfor i in range(0, 9):\n",
        "\t\tpyplot.subplot(330 + 1 + i)\n",
        "\t\tpyplot.imshow(X_batch[i].reshape(28, 28), cmap=pyplot.get_cmap('gray'))\n",
        "\t# show the plot\n",
        "\tpyplot.show()\n",
        "\tbreak"
      ],
      "execution_count": null,
      "outputs": [
        {
          "output_type": "display_data",
          "data": {
            "image/png": "[encoded data removed]",
            "text/plain": [
              "<Figure size 432x288 with 9 Axes>"
            ]
          },
          "metadata": {
            "tags": []
          }
        }
      ]
    },
    {
      "cell_type": "code",
      "metadata": {
        "id": "HOzpaMerIu_s",
        "colab_type": "code",
        "colab": {
          "base_uri": "https://localhost:8080/",
          "height": 176
        },
        "outputId": "a8f1b20b-9795-494b-e8f5-cde36b46e267"
      },
      "source": [
        "EPOCHS = 100\n",
        "BS = 32\n",
        "\n",
        "aug = ImageDataGenerator(rotation_range=20, zoom_range=0.15,\n",
        "\twidth_shift_range=0.2, height_shift_range=0.2, shear_range=0.15,\n",
        "\thorizontal_flip=True, fill_mode=\"nearest\")\n",
        "\n",
        "# Create the model\n",
        "\n",
        "import keras\n",
        "from keras.models import Sequential\n",
        "from keras.layers import Dense,Conv2D,MaxPooling2D,Flatten\n",
        "from keras import regularizers\n",
        "model=Sequential()\n",
        "model.add(Conv2D(32,(3,3),padding='same',activation='relu',input_shape=(28,28,1),strides=(1,1),dilation_rate=(1,1)))\n",
        "model.add(MaxPooling2D(pool_size=(2,2)))\n",
        "model.add(Conv2D(64,(3,3),activation='relu'))\n",
        "model.add(MaxPooling2D(pool_size=(2,2)))\n",
        "model.add(Conv2D(128,(3,3),activation='relu'))\n",
        "model.add(Flatten())\n",
        "model.add(Dense(128,activation='relu',kernel_regularizer=regularizers.l2(0.01)))\n",
        "model.add(Dense(10,activation='softmax'))\n",
        "  \n",
        "\n"
      ],
      "execution_count": null,
      "outputs": [
        {
          "output_type": "stream",
          "text": [
            "WARNING:tensorflow:From /usr/local/lib/python3.6/dist-packages/keras/backend/tensorflow_backend.py:66: The name tf.get_default_graph is deprecated. Please use tf.compat.v1.get_default_graph instead.\n",
            "\n",
            "WARNING:tensorflow:From /usr/local/lib/python3.6/dist-packages/keras/backend/tensorflow_backend.py:541: The name tf.placeholder is deprecated. Please use tf.compat.v1.placeholder instead.\n",
            "\n",
            "WARNING:tensorflow:From /usr/local/lib/python3.6/dist-packages/keras/backend/tensorflow_backend.py:4432: The name tf.random_uniform is deprecated. Please use tf.random.uniform instead.\n",
            "\n",
            "WARNING:tensorflow:From /usr/local/lib/python3.6/dist-packages/keras/backend/tensorflow_backend.py:4267: The name tf.nn.max_pool is deprecated. Please use tf.nn.max_pool2d instead.\n",
            "\n"
          ],
          "name": "stdout"
        }
      ]
    },
    {
      "cell_type": "code",
      "metadata": {
        "id": "GHYS3-ROIu_1",
        "colab_type": "code",
        "colab": {
          "base_uri": "https://localhost:8080/",
          "height": 434
        },
        "outputId": "cac3f000-de9c-4f24-ed9d-cf764ddd0943"
      },
      "source": [
        "model.summary()"
      ],
      "execution_count": null,
      "outputs": [
        {
          "output_type": "stream",
          "text": [
            "Model: \"sequential_1\"\n",
            "_________________________________________________________________\n",
            "Layer (type)                 Output Shape              Param #   \n",
            "=================================================================\n",
            "conv2d_1 (Conv2D)            (None, 28, 28, 32)        320       \n",
            "_________________________________________________________________\n",
            "max_pooling2d_1 (MaxPooling2 (None, 14, 14, 32)        0         \n",
            "_________________________________________________________________\n",
            "conv2d_2 (Conv2D)            (None, 12, 12, 64)        18496     \n",
            "_________________________________________________________________\n",
            "max_pooling2d_2 (MaxPooling2 (None, 6, 6, 64)          0         \n",
            "_________________________________________________________________\n",
            "conv2d_3 (Conv2D)            (None, 4, 4, 128)         73856     \n",
            "_________________________________________________________________\n",
            "flatten_1 (Flatten)          (None, 2048)              0         \n",
            "_________________________________________________________________\n",
            "dense_1 (Dense)              (None, 128)               262272    \n",
            "_________________________________________________________________\n",
            "dense_2 (Dense)              (None, 10)                1290      \n",
            "=================================================================\n",
            "Total params: 356,234\n",
            "Trainable params: 356,234\n",
            "Non-trainable params: 0\n",
            "_________________________________________________________________\n"
          ],
          "name": "stdout"
        }
      ]
    },
    {
      "cell_type": "code",
      "metadata": {
        "id": "op8ajAREIu__",
        "colab_type": "code",
        "colab": {
          "base_uri": "https://localhost:8080/",
          "height": 34
        },
        "outputId": "a2929271-b7d8-4ff1-a43f-3abe8d00c2bf"
      },
      "source": [
        "from keras.utils import to_categorical\n",
        "\n",
        "y_train = to_categorical(y_train)\n",
        "y = y_test\n",
        "y_test = to_categorical(y_test)\n",
        "y_train[0]"
      ],
      "execution_count": null,
      "outputs": [
        {
          "output_type": "execute_result",
          "data": {
            "text/plain": [
              "array([0., 0., 0., 0., 0., 1., 0., 0., 0., 0.], dtype=float32)"
            ]
          },
          "metadata": {
            "tags": []
          },
          "execution_count": 5
        }
      ]
    },
    {
      "cell_type": "code",
      "metadata": {
        "id": "BOB6iwVNIvAH",
        "colab_type": "code",
        "colab": {
          "base_uri": "https://localhost:8080/",
          "height": 1000
        },
        "outputId": "19ee775e-594c-4ea7-ab38-c85ec92b73b1"
      },
      "source": [
        "\n",
        "model.compile(optimizer='rmsprop',loss='categorical_crossentropy',metrics=['accuracy'])\n",
        "model1 = model.fit(X_train,y_train,validation_data=(X_test,y_test),epochs=20)\n",
        "# train the network\n"
      ],
      "execution_count": null,
      "outputs": [
        {
          "output_type": "stream",
          "text": [
            "WARNING:tensorflow:From /usr/local/lib/python3.6/dist-packages/keras/optimizers.py:793: The name tf.train.Optimizer is deprecated. Please use tf.compat.v1.train.Optimizer instead.\n",
            "\n",
            "WARNING:tensorflow:From /usr/local/lib/python3.6/dist-packages/keras/backend/tensorflow_backend.py:3576: The name tf.log is deprecated. Please use tf.math.log instead.\n",
            "\n",
            "WARNING:tensorflow:From /usr/local/lib/python3.6/dist-packages/tensorflow_core/python/ops/math_grad.py:1424: where (from tensorflow.python.ops.array_ops) is deprecated and will be removed in a future version.\n",
            "Instructions for updating:\n",
            "Use tf.where in 2.0, which has the same broadcast rule as np.where\n",
            "WARNING:tensorflow:From /usr/local/lib/python3.6/dist-packages/keras/backend/tensorflow_backend.py:1033: The name tf.assign_add is deprecated. Please use tf.compat.v1.assign_add instead.\n",
            "\n",
            "WARNING:tensorflow:From /usr/local/lib/python3.6/dist-packages/keras/backend/tensorflow_backend.py:1020: The name tf.assign is deprecated. Please use tf.compat.v1.assign instead.\n",
            "\n",
            "WARNING:tensorflow:From /usr/local/lib/python3.6/dist-packages/keras/backend/tensorflow_backend.py:3005: The name tf.Session is deprecated. Please use tf.compat.v1.Session instead.\n",
            "\n",
            "Train on 60000 samples, validate on 10000 samples\n",
            "Epoch 1/20\n",
            "WARNING:tensorflow:From /usr/local/lib/python3.6/dist-packages/keras/backend/tensorflow_backend.py:190: The name tf.get_default_session is deprecated. Please use tf.compat.v1.get_default_session instead.\n",
            "\n",
            "WARNING:tensorflow:From /usr/local/lib/python3.6/dist-packages/keras/backend/tensorflow_backend.py:197: The name tf.ConfigProto is deprecated. Please use tf.compat.v1.ConfigProto instead.\n",
            "\n",
            "WARNING:tensorflow:From /usr/local/lib/python3.6/dist-packages/keras/backend/tensorflow_backend.py:207: The name tf.global_variables is deprecated. Please use tf.compat.v1.global_variables instead.\n",
            "\n",
            "WARNING:tensorflow:From /usr/local/lib/python3.6/dist-packages/keras/backend/tensorflow_backend.py:216: The name tf.is_variable_initialized is deprecated. Please use tf.compat.v1.is_variable_initialized instead.\n",
            "\n",
            "WARNING:tensorflow:From /usr/local/lib/python3.6/dist-packages/keras/backend/tensorflow_backend.py:223: The name tf.variables_initializer is deprecated. Please use tf.compat.v1.variables_initializer instead.\n",
            "\n",
            "60000/60000 [==============================] - 25s 420us/step - loss: 1.3617 - acc: 0.8895 - val_loss: 0.1037 - val_acc: 0.9821\n",
            "Epoch 2/20\n",
            "60000/60000 [==============================] - 10s 162us/step - loss: 0.1075 - acc: 0.9777 - val_loss: 0.0961 - val_acc: 0.9802\n",
            "Epoch 3/20\n",
            "60000/60000 [==============================] - 10s 163us/step - loss: 0.0913 - acc: 0.9812 - val_loss: 0.0743 - val_acc: 0.9853\n",
            "Epoch 4/20\n",
            "60000/60000 [==============================] - 10s 161us/step - loss: 0.0869 - acc: 0.9816 - val_loss: 0.0695 - val_acc: 0.9853\n",
            "Epoch 5/20\n",
            "60000/60000 [==============================] - 9s 156us/step - loss: 0.0784 - acc: 0.9836 - val_loss: 0.0665 - val_acc: 0.9864\n",
            "Epoch 6/20\n",
            "60000/60000 [==============================] - 9s 154us/step - loss: 0.0811 - acc: 0.9828 - val_loss: 0.0802 - val_acc: 0.9811\n",
            "Epoch 7/20\n",
            "60000/60000 [==============================] - 10s 160us/step - loss: 0.0765 - acc: 0.9839 - val_loss: 0.0579 - val_acc: 0.9888\n",
            "Epoch 8/20\n",
            "60000/60000 [==============================] - 9s 150us/step - loss: 0.0737 - acc: 0.9847 - val_loss: 0.0836 - val_acc: 0.9821\n",
            "Epoch 9/20\n",
            "60000/60000 [==============================] - 9s 151us/step - loss: 0.0690 - acc: 0.9852 - val_loss: 0.0742 - val_acc: 0.9825\n",
            "Epoch 10/20\n",
            "60000/60000 [==============================] - 10s 159us/step - loss: 0.0683 - acc: 0.9857 - val_loss: 0.0689 - val_acc: 0.9853\n",
            "Epoch 11/20\n",
            "60000/60000 [==============================] - 9s 148us/step - loss: 0.0671 - acc: 0.9864 - val_loss: 0.1105 - val_acc: 0.9765\n",
            "Epoch 12/20\n",
            "60000/60000 [==============================] - 9s 155us/step - loss: 0.0657 - acc: 0.9864 - val_loss: 0.1689 - val_acc: 0.9652\n",
            "Epoch 13/20\n",
            "60000/60000 [==============================] - 9s 152us/step - loss: 0.0644 - acc: 0.9872 - val_loss: 0.0614 - val_acc: 0.9864\n",
            "Epoch 14/20\n",
            "60000/60000 [==============================] - 9s 158us/step - loss: 0.0658 - acc: 0.9865 - val_loss: 0.0795 - val_acc: 0.9850\n",
            "Epoch 15/20\n",
            "60000/60000 [==============================] - 10s 165us/step - loss: 0.0628 - acc: 0.9863 - val_loss: 0.0691 - val_acc: 0.9865\n",
            "Epoch 16/20\n",
            "60000/60000 [==============================] - 10s 158us/step - loss: 0.0658 - acc: 0.9865 - val_loss: 0.1095 - val_acc: 0.9796\n",
            "Epoch 17/20\n",
            "60000/60000 [==============================] - 10s 160us/step - loss: 0.0619 - acc: 0.9869 - val_loss: 0.1030 - val_acc: 0.9810\n",
            "Epoch 18/20\n",
            "60000/60000 [==============================] - 9s 155us/step - loss: 0.0646 - acc: 0.9871 - val_loss: 0.0996 - val_acc: 0.9767\n",
            "Epoch 19/20\n",
            "60000/60000 [==============================] - 9s 153us/step - loss: 0.0635 - acc: 0.9870 - val_loss: 0.0756 - val_acc: 0.9818\n",
            "Epoch 20/20\n",
            "60000/60000 [==============================] - 9s 153us/step - loss: 0.0580 - acc: 0.9881 - val_loss: 0.0899 - val_acc: 0.9860\n"
          ],
          "name": "stdout"
        }
      ]
    },
    {
      "cell_type": "code",
      "metadata": {
        "id": "1J0cEZLdNB5Q",
        "colab_type": "code",
        "colab": {
          "base_uri": "https://localhost:8080/",
          "height": 712
        },
        "outputId": "b895d664-5e04-4967-8259-36c8230b1168"
      },
      "source": [
        "from keras.models import load_model\n",
        "model.save(\"myfirst\")\n",
        "model1 = load_model(\"myfirst\")\n",
        "H = model1.fit_generator(aug.flow(X_train, y_train, batch_size=BS),\n",
        "\tvalidation_data=(X_test, y_test), steps_per_epoch=len(X_train) // BS,\n",
        "\tepochs=20)\n"
      ],
      "execution_count": null,
      "outputs": [
        {
          "output_type": "stream",
          "text": [
            "Epoch 1/20\n",
            "1875/1875 [==============================] - 22s 12ms/step - loss: 0.2801 - acc: 0.9345 - val_loss: 0.2104 - val_acc: 0.9624\n",
            "Epoch 2/20\n",
            "1875/1875 [==============================] - 23s 12ms/step - loss: 0.2747 - acc: 0.9357 - val_loss: 0.2821 - val_acc: 0.9595\n",
            "Epoch 3/20\n",
            "1875/1875 [==============================] - 22s 12ms/step - loss: 0.2827 - acc: 0.9353 - val_loss: 0.2358 - val_acc: 0.9697\n",
            "Epoch 4/20\n",
            "1875/1875 [==============================] - 22s 12ms/step - loss: 0.2798 - acc: 0.9343 - val_loss: 0.2788 - val_acc: 0.9548\n",
            "Epoch 5/20\n",
            "1875/1875 [==============================] - 22s 12ms/step - loss: 0.2797 - acc: 0.9355 - val_loss: 0.2576 - val_acc: 0.9624\n",
            "Epoch 6/20\n",
            "1875/1875 [==============================] - 22s 12ms/step - loss: 0.2793 - acc: 0.9358 - val_loss: 0.3148 - val_acc: 0.9604\n",
            "Epoch 7/20\n",
            "1875/1875 [==============================] - 22s 12ms/step - loss: 0.2766 - acc: 0.9362 - val_loss: 0.3764 - val_acc: 0.9503\n",
            "Epoch 8/20\n",
            "1875/1875 [==============================] - 22s 12ms/step - loss: 0.2747 - acc: 0.9383 - val_loss: 0.3669 - val_acc: 0.9516\n",
            "Epoch 9/20\n",
            "1875/1875 [==============================] - 22s 12ms/step - loss: 0.2820 - acc: 0.9353 - val_loss: 0.2223 - val_acc: 0.9651\n",
            "Epoch 10/20\n",
            "1875/1875 [==============================] - 22s 12ms/step - loss: 0.2754 - acc: 0.9358 - val_loss: 0.4278 - val_acc: 0.9389\n",
            "Epoch 11/20\n",
            "1875/1875 [==============================] - 22s 12ms/step - loss: 0.2782 - acc: 0.9360 - val_loss: 0.3137 - val_acc: 0.9578\n",
            "Epoch 12/20\n",
            "1875/1875 [==============================] - 23s 12ms/step - loss: 0.2753 - acc: 0.9358 - val_loss: 1.7914 - val_acc: 0.8409\n",
            "Epoch 13/20\n",
            "1875/1875 [==============================] - 23s 12ms/step - loss: 0.2786 - acc: 0.9356 - val_loss: 0.1797 - val_acc: 0.9700\n",
            "Epoch 14/20\n",
            "1875/1875 [==============================] - 23s 12ms/step - loss: 0.2824 - acc: 0.9355 - val_loss: 0.3631 - val_acc: 0.9428\n",
            "Epoch 15/20\n",
            "1875/1875 [==============================] - 24s 13ms/step - loss: 0.2745 - acc: 0.9365 - val_loss: 0.2246 - val_acc: 0.9568\n",
            "Epoch 16/20\n",
            "1875/1875 [==============================] - 24s 13ms/step - loss: 0.2779 - acc: 0.9364 - val_loss: 0.2596 - val_acc: 0.9549\n",
            "Epoch 17/20\n",
            "1875/1875 [==============================] - 23s 13ms/step - loss: 0.2720 - acc: 0.9367 - val_loss: 0.1949 - val_acc: 0.9654\n",
            "Epoch 18/20\n",
            "1875/1875 [==============================] - 23s 12ms/step - loss: 0.2716 - acc: 0.9365 - val_loss: 0.2814 - val_acc: 0.9537\n",
            "Epoch 19/20\n",
            "1875/1875 [==============================] - 23s 12ms/step - loss: 0.2761 - acc: 0.9358 - val_loss: 0.3138 - val_acc: 0.9485\n",
            "Epoch 20/20\n",
            "1875/1875 [==============================] - 23s 12ms/step - loss: 0.2755 - acc: 0.9355 - val_loss: 0.1819 - val_acc: 0.9697\n"
          ],
          "name": "stdout"
        }
      ]
    },
    {
      "cell_type": "code",
      "metadata": {
        "id": "IXTC_nuOKO0d",
        "colab_type": "code",
        "colab": {
          "base_uri": "https://localhost:8080/",
          "height": 283
        },
        "outputId": "782e166a-cee6-420f-d5aa-7287b1699a93"
      },
      "source": [
        "import matplotlib.pyplot as plt\n",
        "\n",
        "plt.plot(H.history['acc'],label=\"Accuracy\")\n",
        "plt.plot(H.history['val_acc'],label='Validation Accuracy')\n",
        "plt.xlabel('Epochs')\n",
        "plt.ylabel('Accuracy')\n",
        "plt.ylim([0.8,1])\n",
        "plt.legend(loc=4)\n",
        "test_loss,test_acc = model1.evaluate(X_test,y_test,verbose=2)"
      ],
      "execution_count": null,
      "outputs": [
        {
          "output_type": "display_data",
          "data": {
            "image/png": "[encoded data removed]",
            "text/plain": [
              "<Figure size 432x288 with 1 Axes>"
            ]
          },
          "metadata": {
            "tags": []
          }
        }
      ]
    },
    {
      "cell_type": "code",
      "metadata": {
        "id": "AgLwYqMDPz0x",
        "colab_type": "code",
        "colab": {}
      },
      "source": [
        ""
      ],
      "execution_count": null,
      "outputs": []
    }
  ]
}