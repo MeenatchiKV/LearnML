{
  "nbformat": 4,
  "nbformat_minor": 0,
  "metadata": {
    "colab": {
      "name": "Breast Cancer Pearson Correlation.ipynb",
      "provenance": [],
      "collapsed_sections": [],
      "authorship_tag": "ABX9TyNL0X/g7UaGrtpQov2HXPN+",
      "include_colab_link": true
    },
    "kernelspec": {
      "name": "python3",
      "display_name": "Python 3"
    }
  },
  "cells": [
    {
      "cell_type": "markdown",
      "metadata": {
        "id": "view-in-github",
        "colab_type": "text"
      },
      "source": [
        "<a href=\"https://colab.research.google.com/github/MeenatchiKV/LearnML/blob/master/Breast_Cancer_Pearson_Correlation.ipynb\" target=\"_parent\"><img src=\"https://colab.research.google.com/assets/colab-badge.svg\" alt=\"Open In Colab\"/></a>"
      ]
    },
    {
      "cell_type": "code",
      "metadata": {
        "id": "s4TWtBlIrOFI",
        "colab_type": "code",
        "colab": {}
      },
      "source": [
        "import numpy as np\n",
        "from numpy import mean\n",
        "from numpy import std\n",
        "from numpy.random import seed\n",
        "# seed random number generator\n",
        "seed(1)\n",
        "import pandas as pd"
      ],
      "execution_count": null,
      "outputs": []
    },
    {
      "cell_type": "code",
      "metadata": {
        "id": "bnzVOsqG81Vj",
        "colab_type": "code",
        "colab": {
          "base_uri": "https://localhost:8080/",
          "height": 224
        },
        "outputId": "c57f568b-58d9-4e8c-8aa1-d95ad38d1eca"
      },
      "source": [
        "path = \"/content/breast-cancer-wisconsin.data\"\n",
        "df = pd.read_csv(path)\n",
        "df.head()"
      ],
      "execution_count": null,
      "outputs": [
        {
          "output_type": "execute_result",
          "data": {
            "text/html": [
              "<div>\n",
              "<style scoped>\n",
              "    .dataframe tbody tr th:only-of-type {\n",
              "        vertical-align: middle;\n",
              "    }\n",
              "\n",
              "    .dataframe tbody tr th {\n",
              "        vertical-align: top;\n",
              "    }\n",
              "\n",
              "    .dataframe thead th {\n",
              "        text-align: right;\n",
              "    }\n",
              "</style>\n",
              "<table border=\"1\" class=\"dataframe\">\n",
              "  <thead>\n",
              "    <tr style=\"text-align: right;\">\n",
              "      <th></th>\n",
              "      <th>id</th>\n",
              "      <th>clump_thickness</th>\n",
              "      <th>unif_cell_size</th>\n",
              "      <th>unif_cell_shape</th>\n",
              "      <th>marg_adhesion</th>\n",
              "      <th>single_apith_cell</th>\n",
              "      <th>bare_nuclei</th>\n",
              "      <th>bland_chrom</th>\n",
              "      <th>norm_nucleoli</th>\n",
              "      <th>mitoses</th>\n",
              "      <th>class</th>\n",
              "    </tr>\n",
              "  </thead>\n",
              "  <tbody>\n",
              "    <tr>\n",
              "      <th>0</th>\n",
              "      <td>1000025</td>\n",
              "      <td>5</td>\n",
              "      <td>1</td>\n",
              "      <td>1</td>\n",
              "      <td>1</td>\n",
              "      <td>2</td>\n",
              "      <td>1</td>\n",
              "      <td>3</td>\n",
              "      <td>1</td>\n",
              "      <td>1</td>\n",
              "      <td>2</td>\n",
              "    </tr>\n",
              "    <tr>\n",
              "      <th>1</th>\n",
              "      <td>1002945</td>\n",
              "      <td>5</td>\n",
              "      <td>4</td>\n",
              "      <td>4</td>\n",
              "      <td>5</td>\n",
              "      <td>7</td>\n",
              "      <td>10</td>\n",
              "      <td>3</td>\n",
              "      <td>2</td>\n",
              "      <td>1</td>\n",
              "      <td>2</td>\n",
              "    </tr>\n",
              "    <tr>\n",
              "      <th>2</th>\n",
              "      <td>1015425</td>\n",
              "      <td>3</td>\n",
              "      <td>1</td>\n",
              "      <td>1</td>\n",
              "      <td>1</td>\n",
              "      <td>2</td>\n",
              "      <td>2</td>\n",
              "      <td>3</td>\n",
              "      <td>1</td>\n",
              "      <td>1</td>\n",
              "      <td>2</td>\n",
              "    </tr>\n",
              "    <tr>\n",
              "      <th>3</th>\n",
              "      <td>1016277</td>\n",
              "      <td>6</td>\n",
              "      <td>8</td>\n",
              "      <td>8</td>\n",
              "      <td>1</td>\n",
              "      <td>3</td>\n",
              "      <td>4</td>\n",
              "      <td>3</td>\n",
              "      <td>7</td>\n",
              "      <td>1</td>\n",
              "      <td>2</td>\n",
              "    </tr>\n",
              "    <tr>\n",
              "      <th>4</th>\n",
              "      <td>1017023</td>\n",
              "      <td>4</td>\n",
              "      <td>1</td>\n",
              "      <td>1</td>\n",
              "      <td>3</td>\n",
              "      <td>2</td>\n",
              "      <td>1</td>\n",
              "      <td>3</td>\n",
              "      <td>1</td>\n",
              "      <td>1</td>\n",
              "      <td>2</td>\n",
              "    </tr>\n",
              "  </tbody>\n",
              "</table>\n",
              "</div>"
            ],
            "text/plain": [
              "        id  clump_thickness  unif_cell_size  ...  norm_nucleoli  mitoses  class\n",
              "0  1000025                5               1  ...              1        1      2\n",
              "1  1002945                5               4  ...              2        1      2\n",
              "2  1015425                3               1  ...              1        1      2\n",
              "3  1016277                6               8  ...              7        1      2\n",
              "4  1017023                4               1  ...              1        1      2\n",
              "\n",
              "[5 rows x 11 columns]"
            ]
          },
          "metadata": {
            "tags": []
          },
          "execution_count": 43
        }
      ]
    },
    {
      "cell_type": "code",
      "metadata": {
        "id": "rJ_jhINVBwnw",
        "colab_type": "code",
        "colab": {
          "base_uri": "https://localhost:8080/",
          "height": 323
        },
        "outputId": "139eb5a2-a8b3-426d-8473-4dbf7be55582"
      },
      "source": [
        "df.info()"
      ],
      "execution_count": null,
      "outputs": [
        {
          "output_type": "stream",
          "text": [
            "<class 'pandas.core.frame.DataFrame'>\n",
            "RangeIndex: 699 entries, 0 to 698\n",
            "Data columns (total 11 columns):\n",
            " #   Column             Non-Null Count  Dtype \n",
            "---  ------             --------------  ----- \n",
            " 0   id                 699 non-null    int64 \n",
            " 1   clump_thickness    699 non-null    int64 \n",
            " 2   unif_cell_size     699 non-null    int64 \n",
            " 3   unif_cell_shape    699 non-null    int64 \n",
            " 4   marg_adhesion      699 non-null    int64 \n",
            " 5   single_apith_cell  699 non-null    int64 \n",
            " 6   bare_nuclei        699 non-null    object\n",
            " 7   bland_chrom        699 non-null    int64 \n",
            " 8   norm_nucleoli      699 non-null    int64 \n",
            " 9   mitoses            699 non-null    int64 \n",
            " 10  class              699 non-null    int64 \n",
            "dtypes: int64(10), object(1)\n",
            "memory usage: 60.2+ KB\n"
          ],
          "name": "stdout"
        }
      ]
    },
    {
      "cell_type": "code",
      "metadata": {
        "id": "2xnfy7_4B4d2",
        "colab_type": "code",
        "colab": {}
      },
      "source": [
        "df.replace('?',-99999,inplace=True)\n",
        "df['bare_nuclei'] = df['bare_nuclei'].astype(int)"
      ],
      "execution_count": null,
      "outputs": []
    },
    {
      "cell_type": "code",
      "metadata": {
        "id": "Q7RrwUkD8_Xb",
        "colab_type": "code",
        "colab": {
          "base_uri": "https://localhost:8080/",
          "height": 85
        },
        "outputId": "fccad9d1-2d81-489c-e1d4-aa316d15bfb9"
      },
      "source": [
        "df.columns"
      ],
      "execution_count": null,
      "outputs": [
        {
          "output_type": "execute_result",
          "data": {
            "text/plain": [
              "Index(['id', 'clump_thickness', 'unif_cell_size', 'unif_cell_shape',\n",
              "       'marg_adhesion', 'single_apith_cell', 'bare_nuclei', 'bland_chrom',\n",
              "       'norm_nucleoli', 'mitoses', 'class'],\n",
              "      dtype='object')"
            ]
          },
          "metadata": {
            "tags": []
          },
          "execution_count": 46
        }
      ]
    },
    {
      "cell_type": "code",
      "metadata": {
        "id": "_u-evgFD9D99",
        "colab_type": "code",
        "colab": {}
      },
      "source": [
        "features = ['clump_thickness', 'unif_cell_size', 'unif_cell_shape',\n",
        "       'marg_adhesion', 'single_apith_cell', 'bare_nuclei', 'bland_chrom',\n",
        "       'norm_nucleoli', 'mitoses']\n",
        "classes = ['class']\n",
        "\n",
        "#for f in features:\n",
        "#  df[f].astype(float64)\n",
        "df = df.dropna()"
      ],
      "execution_count": null,
      "outputs": []
    },
    {
      "cell_type": "code",
      "metadata": {
        "id": "gYc_-bi3C0X4",
        "colab_type": "code",
        "colab": {
          "base_uri": "https://localhost:8080/",
          "height": 323
        },
        "outputId": "d071a93f-cda0-43f8-b716-a75869c014db"
      },
      "source": [
        "df.info()"
      ],
      "execution_count": null,
      "outputs": [
        {
          "output_type": "stream",
          "text": [
            "<class 'pandas.core.frame.DataFrame'>\n",
            "Int64Index: 699 entries, 0 to 698\n",
            "Data columns (total 11 columns):\n",
            " #   Column             Non-Null Count  Dtype\n",
            "---  ------             --------------  -----\n",
            " 0   id                 699 non-null    int64\n",
            " 1   clump_thickness    699 non-null    int64\n",
            " 2   unif_cell_size     699 non-null    int64\n",
            " 3   unif_cell_shape    699 non-null    int64\n",
            " 4   marg_adhesion      699 non-null    int64\n",
            " 5   single_apith_cell  699 non-null    int64\n",
            " 6   bare_nuclei        699 non-null    int64\n",
            " 7   bland_chrom        699 non-null    int64\n",
            " 8   norm_nucleoli      699 non-null    int64\n",
            " 9   mitoses            699 non-null    int64\n",
            " 10  class              699 non-null    int64\n",
            "dtypes: int64(11)\n",
            "memory usage: 65.5 KB\n"
          ],
          "name": "stdout"
        }
      ]
    },
    {
      "cell_type": "code",
      "metadata": {
        "id": "4nqbDE1Y9Eih",
        "colab_type": "code",
        "colab": {
          "base_uri": "https://localhost:8080/",
          "height": 54
        },
        "outputId": "63570516-aae2-4798-a5b8-e135d4461bd8"
      },
      "source": [
        "from scipy.stats import pearsonr\n",
        "pearson_dict = {}\n",
        "def calc_pearson(features):\n",
        "  #pearson_dict = {}\n",
        "  n = len(features)\n",
        "  for _ in range(n):\n",
        "    pearson_dict[features[_]]=[0,[]]\n",
        "\n",
        "  for i in range(n-1):\n",
        "    for j in range(i+1,n):\n",
        "      n_name=features[i]+'-'+features[j]\n",
        "      corr,_ = pearsonr(df[features[i]],df[features[j]])\n",
        "      if corr>0.85:\n",
        "        pearson_dict[features[i]][0] = pearson_dict[features[i]][0] + 1\n",
        "        pearson_dict[features[i]][1].append(features[j])\n",
        "        pearson_dict[features[j]][0] = pearson_dict[features[j]][0] + 1\n",
        "        pearson_dict[features[j]][1].append(features[i])\n",
        "\n",
        "  print(pearson_dict)\n",
        "\n",
        "\n",
        "calc_pearson(features)"
      ],
      "execution_count": null,
      "outputs": [
        {
          "output_type": "stream",
          "text": [
            "{'clump_thickness': [0, []], 'unif_cell_size': [1, ['unif_cell_shape']], 'unif_cell_shape': [1, ['unif_cell_size']], 'marg_adhesion': [0, []], 'single_apith_cell': [0, []], 'bare_nuclei': [0, []], 'bland_chrom': [0, []], 'norm_nucleoli': [0, []], 'mitoses': [0, []]}\n"
          ],
          "name": "stdout"
        }
      ]
    },
    {
      "cell_type": "code",
      "metadata": {
        "id": "tP3M_SeiCy3i",
        "colab_type": "code",
        "colab": {}
      },
      "source": [
        ""
      ],
      "execution_count": null,
      "outputs": []
    },
    {
      "cell_type": "code",
      "metadata": {
        "id": "1t1mMDmW9GTK",
        "colab_type": "code",
        "colab": {
          "base_uri": "https://localhost:8080/",
          "height": 51
        },
        "outputId": "4ebff143-47b1-4813-a68c-72f93a406eda"
      },
      "source": [
        "max_val = -1\n",
        "max_key = []\n",
        "for k,v in pearson_dict.items():\n",
        "  if v[0] > max_val:\n",
        "    max_val = v[0]\n",
        "    max_key = [k]\n",
        "    continue\n",
        "  if v[0] == max_val:\n",
        "    max_key.append(k)\n",
        "\n",
        "print(max_key)\n",
        "print(max_val)"
      ],
      "execution_count": null,
      "outputs": [
        {
          "output_type": "stream",
          "text": [
            "['unif_cell_size', 'unif_cell_shape']\n",
            "1\n"
          ],
          "name": "stdout"
        }
      ]
    },
    {
      "cell_type": "code",
      "metadata": {
        "id": "5-eNOFc99IFv",
        "colab_type": "code",
        "colab": {
          "base_uri": "https://localhost:8080/",
          "height": 71
        },
        "outputId": "ae29dc49-63a4-466f-d9ac-bf6f38eba44e"
      },
      "source": [
        "for m in max_key:\n",
        "  maxx = pearson_dict[m]\n",
        "  for _ in range(maxx[0]):\n",
        "    pearson_dict[maxx[1][_]][0]= pearson_dict[maxx[1][_]][0] - 1\n",
        "    pearson_dict[maxx[1][_]][1].remove(m)\n",
        "  del pearson_dict[m]\n",
        "\n",
        "  print(pearson_dict)"
      ],
      "execution_count": null,
      "outputs": [
        {
          "output_type": "stream",
          "text": [
            "{'clump_thickness': [0, []], 'unif_cell_shape': [0, []], 'marg_adhesion': [0, []], 'single_apith_cell': [0, []], 'bare_nuclei': [0, []], 'bland_chrom': [0, []], 'norm_nucleoli': [0, []], 'mitoses': [0, []]}\n",
            "{'clump_thickness': [0, []], 'marg_adhesion': [0, []], 'single_apith_cell': [0, []], 'bare_nuclei': [0, []], 'bland_chrom': [0, []], 'norm_nucleoli': [0, []], 'mitoses': [0, []]}\n"
          ],
          "name": "stdout"
        }
      ]
    },
    {
      "cell_type": "code",
      "metadata": {
        "id": "VrgMitWA9KNC",
        "colab_type": "code",
        "colab": {}
      },
      "source": [
        ""
      ],
      "execution_count": null,
      "outputs": []
    }
  ]
}