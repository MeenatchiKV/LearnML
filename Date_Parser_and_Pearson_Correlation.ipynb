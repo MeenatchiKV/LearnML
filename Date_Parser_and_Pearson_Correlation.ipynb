{
  "nbformat": 4,
  "nbformat_minor": 0,
  "metadata": {
    "colab": {
      "name": "Date Parser and Pearson Correlation.ipynb",
      "provenance": [],
      "include_colab_link": true
    },
    "kernelspec": {
      "name": "python3",
      "display_name": "Python 3"
    }
  },
  "cells": [
    {
      "cell_type": "markdown",
      "metadata": {
        "id": "view-in-github",
        "colab_type": "text"
      },
      "source": [
        "<a href=\"https://colab.research.google.com/github/MeenatchiKV/My-ML-Learnings/blob/master/Date_Parser_and_Pearson_Correlation.ipynb\" target=\"_parent\"><img src=\"https://colab.research.google.com/assets/colab-badge.svg\" alt=\"Open In Colab\"/></a>"
      ]
    },
    {
      "cell_type": "markdown",
      "metadata": {
        "id": "A67O2Kc1PclV",
        "colab_type": "text"
      },
      "source": [
        "## **1. Date Parser**"
      ]
    },
    {
      "cell_type": "markdown",
      "metadata": {
        "id": "_SNwTbkY4P-N",
        "colab_type": "text"
      },
      "source": [
        "## **Parse Date Columns and Find the Difference between each of the date columns.**\n",
        "\n",
        "Import pandas and datetime modules"
      ]
    },
    {
      "cell_type": "code",
      "metadata": {
        "id": "s0XeczEK4SVZ",
        "colab_type": "code",
        "colab": {}
      },
      "source": [
        "import pandas as pd\n",
        "import datetime\n"
      ],
      "execution_count": null,
      "outputs": []
    },
    {
      "cell_type": "markdown",
      "metadata": {
        "id": "VKHt15qS4Vo9",
        "colab_type": "text"
      },
      "source": [
        "Read any Dataset\n",
        "\n",
        "Link to the HR_Dataset:\n",
        "https://www.kaggle.com/rhuebner/human-resources-data-set"
      ]
    },
    {
      "cell_type": "code",
      "metadata": {
        "id": "TSZsIi0n8FpS",
        "colab_type": "code",
        "colab": {
          "base_uri": "https://localhost:8080/",
          "height": 343
        },
        "outputId": "1c572e64-1a66-4d72-e7e1-93e1e8ae0962"
      },
      "source": [
        "df = pd.read_csv(\"HR_Dataset.csv\")\n",
        "df.head()"
      ],
      "execution_count": null,
      "outputs": [
        {
          "output_type": "execute_result",
          "data": {
            "text/html": [
              "<div>\n",
              "<style scoped>\n",
              "    .dataframe tbody tr th:only-of-type {\n",
              "        vertical-align: middle;\n",
              "    }\n",
              "\n",
              "    .dataframe tbody tr th {\n",
              "        vertical-align: top;\n",
              "    }\n",
              "\n",
              "    .dataframe thead th {\n",
              "        text-align: right;\n",
              "    }\n",
              "</style>\n",
              "<table border=\"1\" class=\"dataframe\">\n",
              "  <thead>\n",
              "    <tr style=\"text-align: right;\">\n",
              "      <th></th>\n",
              "      <th>Employee_Name</th>\n",
              "      <th>EmpID</th>\n",
              "      <th>MarriedID</th>\n",
              "      <th>MaritalStatusID</th>\n",
              "      <th>GenderID</th>\n",
              "      <th>EmpStatusID</th>\n",
              "      <th>DeptID</th>\n",
              "      <th>PerfScoreID</th>\n",
              "      <th>FromDiversityJobFairID</th>\n",
              "      <th>PayRate</th>\n",
              "      <th>Termd</th>\n",
              "      <th>PositionID</th>\n",
              "      <th>Position</th>\n",
              "      <th>State</th>\n",
              "      <th>Zip</th>\n",
              "      <th>DOB</th>\n",
              "      <th>Sex</th>\n",
              "      <th>MaritalDesc</th>\n",
              "      <th>CitizenDesc</th>\n",
              "      <th>HispanicLatino</th>\n",
              "      <th>RaceDesc</th>\n",
              "      <th>DateofHire</th>\n",
              "      <th>DateofTermination</th>\n",
              "      <th>TermReason</th>\n",
              "      <th>EmploymentStatus</th>\n",
              "      <th>Department</th>\n",
              "      <th>ManagerName</th>\n",
              "      <th>ManagerID</th>\n",
              "      <th>RecruitmentSource</th>\n",
              "      <th>PerformanceScore</th>\n",
              "      <th>EngagementSurvey</th>\n",
              "      <th>EmpSatisfaction</th>\n",
              "      <th>SpecialProjectsCount</th>\n",
              "      <th>LastPerformanceReview_Date</th>\n",
              "      <th>DaysLateLast30</th>\n",
              "    </tr>\n",
              "  </thead>\n",
              "  <tbody>\n",
              "    <tr>\n",
              "      <th>0</th>\n",
              "      <td>Brown, Mia</td>\n",
              "      <td>1.103024e+09</td>\n",
              "      <td>1.0</td>\n",
              "      <td>1.0</td>\n",
              "      <td>0.0</td>\n",
              "      <td>1.0</td>\n",
              "      <td>1.0</td>\n",
              "      <td>3.0</td>\n",
              "      <td>1.0</td>\n",
              "      <td>28.50</td>\n",
              "      <td>0.0</td>\n",
              "      <td>1.0</td>\n",
              "      <td>Accountant I</td>\n",
              "      <td>MA</td>\n",
              "      <td>1450.0</td>\n",
              "      <td>11/24/87</td>\n",
              "      <td>F</td>\n",
              "      <td>Married</td>\n",
              "      <td>US Citizen</td>\n",
              "      <td>No</td>\n",
              "      <td>Black or African American</td>\n",
              "      <td>10/27/2008</td>\n",
              "      <td>NaN</td>\n",
              "      <td>N/A - still employed</td>\n",
              "      <td>Active</td>\n",
              "      <td>Admin Offices</td>\n",
              "      <td>Brandon R. LeBlanc</td>\n",
              "      <td>1.0</td>\n",
              "      <td>Diversity Job Fair</td>\n",
              "      <td>Fully Meets</td>\n",
              "      <td>2.04</td>\n",
              "      <td>2.0</td>\n",
              "      <td>6.0</td>\n",
              "      <td>1/15/2019</td>\n",
              "      <td>0.0</td>\n",
              "    </tr>\n",
              "    <tr>\n",
              "      <th>1</th>\n",
              "      <td>LaRotonda, William</td>\n",
              "      <td>1.106027e+09</td>\n",
              "      <td>0.0</td>\n",
              "      <td>2.0</td>\n",
              "      <td>1.0</td>\n",
              "      <td>1.0</td>\n",
              "      <td>1.0</td>\n",
              "      <td>3.0</td>\n",
              "      <td>0.0</td>\n",
              "      <td>23.00</td>\n",
              "      <td>0.0</td>\n",
              "      <td>1.0</td>\n",
              "      <td>Accountant I</td>\n",
              "      <td>MA</td>\n",
              "      <td>1460.0</td>\n",
              "      <td>04/26/84</td>\n",
              "      <td>M</td>\n",
              "      <td>Divorced</td>\n",
              "      <td>US Citizen</td>\n",
              "      <td>No</td>\n",
              "      <td>Black or African American</td>\n",
              "      <td>1/6/2014</td>\n",
              "      <td>NaN</td>\n",
              "      <td>N/A - still employed</td>\n",
              "      <td>Active</td>\n",
              "      <td>Admin Offices</td>\n",
              "      <td>Brandon R. LeBlanc</td>\n",
              "      <td>1.0</td>\n",
              "      <td>Website Banner Ads</td>\n",
              "      <td>Fully Meets</td>\n",
              "      <td>5.00</td>\n",
              "      <td>4.0</td>\n",
              "      <td>4.0</td>\n",
              "      <td>1/17/2019</td>\n",
              "      <td>0.0</td>\n",
              "    </tr>\n",
              "    <tr>\n",
              "      <th>2</th>\n",
              "      <td>Steans, Tyrone</td>\n",
              "      <td>1.302053e+09</td>\n",
              "      <td>0.0</td>\n",
              "      <td>0.0</td>\n",
              "      <td>1.0</td>\n",
              "      <td>1.0</td>\n",
              "      <td>1.0</td>\n",
              "      <td>3.0</td>\n",
              "      <td>0.0</td>\n",
              "      <td>29.00</td>\n",
              "      <td>0.0</td>\n",
              "      <td>1.0</td>\n",
              "      <td>Accountant I</td>\n",
              "      <td>MA</td>\n",
              "      <td>2703.0</td>\n",
              "      <td>09/01/86</td>\n",
              "      <td>M</td>\n",
              "      <td>Single</td>\n",
              "      <td>US Citizen</td>\n",
              "      <td>No</td>\n",
              "      <td>White</td>\n",
              "      <td>9/29/2014</td>\n",
              "      <td>NaN</td>\n",
              "      <td>N/A - still employed</td>\n",
              "      <td>Active</td>\n",
              "      <td>Admin Offices</td>\n",
              "      <td>Brandon R. LeBlanc</td>\n",
              "      <td>1.0</td>\n",
              "      <td>Internet Search</td>\n",
              "      <td>Fully Meets</td>\n",
              "      <td>3.90</td>\n",
              "      <td>5.0</td>\n",
              "      <td>5.0</td>\n",
              "      <td>1/18/2019</td>\n",
              "      <td>0.0</td>\n",
              "    </tr>\n",
              "    <tr>\n",
              "      <th>3</th>\n",
              "      <td>Howard, Estelle</td>\n",
              "      <td>1.211051e+09</td>\n",
              "      <td>1.0</td>\n",
              "      <td>1.0</td>\n",
              "      <td>0.0</td>\n",
              "      <td>1.0</td>\n",
              "      <td>1.0</td>\n",
              "      <td>3.0</td>\n",
              "      <td>0.0</td>\n",
              "      <td>21.50</td>\n",
              "      <td>1.0</td>\n",
              "      <td>2.0</td>\n",
              "      <td>Administrative Assistant</td>\n",
              "      <td>MA</td>\n",
              "      <td>2170.0</td>\n",
              "      <td>09/16/85</td>\n",
              "      <td>F</td>\n",
              "      <td>Married</td>\n",
              "      <td>US Citizen</td>\n",
              "      <td>No</td>\n",
              "      <td>White</td>\n",
              "      <td>2/16/2015</td>\n",
              "      <td>04/15/15</td>\n",
              "      <td>NaN</td>\n",
              "      <td>Terminated for Cause</td>\n",
              "      <td>Admin Offices</td>\n",
              "      <td>Brandon R. LeBlanc</td>\n",
              "      <td>1.0</td>\n",
              "      <td>Pay Per Click - Google</td>\n",
              "      <td>Fully Meets</td>\n",
              "      <td>3.24</td>\n",
              "      <td>3.0</td>\n",
              "      <td>4.0</td>\n",
              "      <td>NaN</td>\n",
              "      <td>NaN</td>\n",
              "    </tr>\n",
              "    <tr>\n",
              "      <th>4</th>\n",
              "      <td>Singh, Nan</td>\n",
              "      <td>1.307060e+09</td>\n",
              "      <td>0.0</td>\n",
              "      <td>0.0</td>\n",
              "      <td>0.0</td>\n",
              "      <td>1.0</td>\n",
              "      <td>1.0</td>\n",
              "      <td>3.0</td>\n",
              "      <td>0.0</td>\n",
              "      <td>16.56</td>\n",
              "      <td>0.0</td>\n",
              "      <td>2.0</td>\n",
              "      <td>Administrative Assistant</td>\n",
              "      <td>MA</td>\n",
              "      <td>2330.0</td>\n",
              "      <td>05/19/88</td>\n",
              "      <td>F</td>\n",
              "      <td>Single</td>\n",
              "      <td>US Citizen</td>\n",
              "      <td>No</td>\n",
              "      <td>White</td>\n",
              "      <td>5/1/2015</td>\n",
              "      <td>NaN</td>\n",
              "      <td>N/A - still employed</td>\n",
              "      <td>Active</td>\n",
              "      <td>Admin Offices</td>\n",
              "      <td>Brandon R. LeBlanc</td>\n",
              "      <td>1.0</td>\n",
              "      <td>Website Banner Ads</td>\n",
              "      <td>Fully Meets</td>\n",
              "      <td>5.00</td>\n",
              "      <td>3.0</td>\n",
              "      <td>5.0</td>\n",
              "      <td>1/15/2019</td>\n",
              "      <td>0.0</td>\n",
              "    </tr>\n",
              "  </tbody>\n",
              "</table>\n",
              "</div>"
            ],
            "text/plain": [
              "          Employee_Name  ...  DaysLateLast30\n",
              "0            Brown, Mia  ...             0.0\n",
              "1  LaRotonda, William    ...             0.0\n",
              "2      Steans, Tyrone    ...             0.0\n",
              "3       Howard, Estelle  ...             NaN\n",
              "4           Singh, Nan   ...             0.0\n",
              "\n",
              "[5 rows x 35 columns]"
            ]
          },
          "metadata": {
            "tags": []
          },
          "execution_count": 2
        }
      ]
    },
    {
      "cell_type": "markdown",
      "metadata": {
        "id": "Zf0WiZ9r4sDf",
        "colab_type": "text"
      },
      "source": [
        "Defining the Date Column Parser"
      ]
    },
    {
      "cell_type": "code",
      "metadata": {
        "id": "4T_Y-4XcDf1O",
        "colab_type": "code",
        "colab": {}
      },
      "source": [
        "import re\n",
        "def parse_col(column):\n",
        "  coll = df[column]\n",
        "  match = re.match(r'(\\d+/\\d+/\\d+)|(\\d+ \\w\\w\\w \\d+)',str(coll[0]))\n",
        "  # To Match\n",
        "  # dd/mm/yy\n",
        "  # dd/mm/yyyy\n",
        "  # yyyy/mm/dd\n",
        "  # dd mmm yyyy\n",
        "\n",
        "  if match: \n",
        "    return True\n",
        "  else: return False"
      ],
      "execution_count": null,
      "outputs": []
    },
    {
      "cell_type": "markdown",
      "metadata": {
        "id": "NwK6-XV740kD",
        "colab_type": "text"
      },
      "source": [
        "Defining Datatype changer\n",
        "\n",
        "Change Datatype from Object to datetime"
      ]
    },
    {
      "cell_type": "code",
      "metadata": {
        "id": "7ajod4NZ1HIZ",
        "colab_type": "code",
        "colab": {}
      },
      "source": [
        "def change_type(col):\n",
        "  df[col]=pd.to_datetime(df[col])\n",
        "  return df[col].dtype"
      ],
      "execution_count": null,
      "outputs": []
    },
    {
      "cell_type": "markdown",
      "metadata": {
        "id": "PYtSwX775FJ2",
        "colab_type": "text"
      },
      "source": [
        "Finding the list of Date Columns"
      ]
    },
    {
      "cell_type": "code",
      "metadata": {
        "id": "qCCQ6cW_AHYk",
        "colab_type": "code",
        "colab": {
          "base_uri": "https://localhost:8080/",
          "height": 34
        },
        "outputId": "0b8f17e9-9b19-40d4-cc19-379b807e0434"
      },
      "source": [
        "date_cols = []\n",
        "for col in df.columns:\n",
        "   if df[col].dtype == 'datetime64[ns]':\n",
        "     date_cols.append(col)\n",
        "   elif df[col].dtype == 'object':\n",
        "     is_date = parse_col(col)\n",
        "     if is_date==True:\n",
        "       change = change_type(col)\n",
        "       if change != 'object':\n",
        "         date_cols.append(col)\n",
        "\n",
        "print(date_cols)"
      ],
      "execution_count": null,
      "outputs": [
        {
          "output_type": "stream",
          "text": [
            "['DOB', 'DateofHire', 'LastPerformanceReview_Date']\n"
          ],
          "name": "stdout"
        }
      ]
    },
    {
      "cell_type": "markdown",
      "metadata": {
        "id": "aoAVugzR5P4-",
        "colab_type": "text"
      },
      "source": [
        "Creating new columns and Filling the differences of dates"
      ]
    },
    {
      "cell_type": "code",
      "metadata": {
        "id": "rttnk_2Yy9Lg",
        "colab_type": "code",
        "colab": {
          "base_uri": "https://localhost:8080/",
          "height": 34
        },
        "outputId": "5ca74fd1-6be7-47d3-afc5-f59e1e54a029"
      },
      "source": [
        "n = len(date_cols)\n",
        "# n columns\n",
        "n_cols = []\n",
        "diff_df = pd.DataFrame()\n",
        "for i in range(n-1):\n",
        "  for j in range(i+1,n):\n",
        "    n_name = date_cols[i]+'-'+date_cols[j]\n",
        "    diff_df[n_name] = df[date_cols[i]]-df[date_cols[j]]\n",
        "    n_cols.append(n_name)\n",
        "print(n_cols)"
      ],
      "execution_count": null,
      "outputs": [
        {
          "output_type": "stream",
          "text": [
            "['DOB-DateofHire', 'DOB-LastPerformanceReview_Date', 'DateofHire-LastPerformanceReview_Date']\n"
          ],
          "name": "stdout"
        }
      ]
    },
    {
      "cell_type": "code",
      "metadata": {
        "id": "MACUG_FT6nNL",
        "colab_type": "code",
        "colab": {
          "base_uri": "https://localhost:8080/",
          "height": 119
        },
        "outputId": "204c4515-74f8-4d2d-ee83-7a8489c3d7da"
      },
      "source": [
        "diff_df[n_cols[0]].head()"
      ],
      "execution_count": null,
      "outputs": [
        {
          "output_type": "execute_result",
          "data": {
            "text/plain": [
              "0    -7643 days\n",
              "1   -10847 days\n",
              "2   -10255 days\n",
              "3   -10745 days\n",
              "4    -9843 days\n",
              "Name: DOB-DateofHire, dtype: timedelta64[ns]"
            ]
          },
          "metadata": {
            "tags": []
          },
          "execution_count": 7
        }
      ]
    },
    {
      "cell_type": "code",
      "metadata": {
        "id": "5TiYhp453fZT",
        "colab_type": "code",
        "colab": {
          "base_uri": "https://localhost:8080/",
          "height": 204
        },
        "outputId": "8151a6e2-af6c-4260-e786-af2584e1deb6"
      },
      "source": [
        "diff_df.head()"
      ],
      "execution_count": null,
      "outputs": [
        {
          "output_type": "execute_result",
          "data": {
            "text/html": [
              "<div>\n",
              "<style scoped>\n",
              "    .dataframe tbody tr th:only-of-type {\n",
              "        vertical-align: middle;\n",
              "    }\n",
              "\n",
              "    .dataframe tbody tr th {\n",
              "        vertical-align: top;\n",
              "    }\n",
              "\n",
              "    .dataframe thead th {\n",
              "        text-align: right;\n",
              "    }\n",
              "</style>\n",
              "<table border=\"1\" class=\"dataframe\">\n",
              "  <thead>\n",
              "    <tr style=\"text-align: right;\">\n",
              "      <th></th>\n",
              "      <th>DOB-DateofHire</th>\n",
              "      <th>DOB-LastPerformanceReview_Date</th>\n",
              "      <th>DateofHire-LastPerformanceReview_Date</th>\n",
              "    </tr>\n",
              "  </thead>\n",
              "  <tbody>\n",
              "    <tr>\n",
              "      <th>0</th>\n",
              "      <td>-7643 days</td>\n",
              "      <td>-11375 days</td>\n",
              "      <td>-3732 days</td>\n",
              "    </tr>\n",
              "    <tr>\n",
              "      <th>1</th>\n",
              "      <td>-10847 days</td>\n",
              "      <td>-12684 days</td>\n",
              "      <td>-1837 days</td>\n",
              "    </tr>\n",
              "    <tr>\n",
              "      <th>2</th>\n",
              "      <td>-10255 days</td>\n",
              "      <td>-11827 days</td>\n",
              "      <td>-1572 days</td>\n",
              "    </tr>\n",
              "    <tr>\n",
              "      <th>3</th>\n",
              "      <td>-10745 days</td>\n",
              "      <td>NaT</td>\n",
              "      <td>NaT</td>\n",
              "    </tr>\n",
              "    <tr>\n",
              "      <th>4</th>\n",
              "      <td>-9843 days</td>\n",
              "      <td>-11198 days</td>\n",
              "      <td>-1355 days</td>\n",
              "    </tr>\n",
              "  </tbody>\n",
              "</table>\n",
              "</div>"
            ],
            "text/plain": [
              "  DOB-DateofHire  ... DateofHire-LastPerformanceReview_Date\n",
              "0     -7643 days  ...                            -3732 days\n",
              "1    -10847 days  ...                            -1837 days\n",
              "2    -10255 days  ...                            -1572 days\n",
              "3    -10745 days  ...                                   NaT\n",
              "4     -9843 days  ...                            -1355 days\n",
              "\n",
              "[5 rows x 3 columns]"
            ]
          },
          "metadata": {
            "tags": []
          },
          "execution_count": 8
        }
      ]
    },
    {
      "cell_type": "markdown",
      "metadata": {
        "id": "2fSmr7jVRs49",
        "colab_type": "text"
      },
      "source": [
        "\n",
        "\n",
        "---\n",
        "\n"
      ]
    },
    {
      "cell_type": "markdown",
      "metadata": {
        "id": "AH2ihO9gPhZG",
        "colab_type": "text"
      },
      "source": [
        "## **2. Pearson Correlation**"
      ]
    },
    {
      "cell_type": "markdown",
      "metadata": {
        "id": "yzudnOQsPtUz",
        "colab_type": "text"
      },
      "source": [
        "Drop Features having Pearson correlation more than 0.85\n",
        "\n",
        "Import necessary modules"
      ]
    },
    {
      "cell_type": "code",
      "metadata": {
        "id": "XgSnX6gM3ocw",
        "colab_type": "code",
        "colab": {}
      },
      "source": [
        "from numpy import mean\n",
        "from numpy import std\n",
        "from numpy.random import seed\n",
        "# seed random number generator\n",
        "seed(1)\n",
        "import pandas as pd\n"
      ],
      "execution_count": null,
      "outputs": []
    },
    {
      "cell_type": "markdown",
      "metadata": {
        "id": "I-JnlZV6RQzy",
        "colab_type": "text"
      },
      "source": [
        "Load Dataset\n",
        "\n",
        "Chosen Dataset: Iris Dataset"
      ]
    },
    {
      "cell_type": "code",
      "metadata": {
        "id": "6WoutDrAPv4T",
        "colab_type": "code",
        "colab": {
          "base_uri": "https://localhost:8080/",
          "height": 204
        },
        "outputId": "c8c9a812-c16f-4cbd-c517-a97a76b4cf2b"
      },
      "source": [
        "path = \"https://raw.githubusercontent.com/uiuc-cse/data-fa14/gh-pages/data/iris.csv\"\n",
        "df = pd.read_csv(path)\n",
        "df.head()"
      ],
      "execution_count": null,
      "outputs": [
        {
          "output_type": "execute_result",
          "data": {
            "text/html": [
              "<div>\n",
              "<style scoped>\n",
              "    .dataframe tbody tr th:only-of-type {\n",
              "        vertical-align: middle;\n",
              "    }\n",
              "\n",
              "    .dataframe tbody tr th {\n",
              "        vertical-align: top;\n",
              "    }\n",
              "\n",
              "    .dataframe thead th {\n",
              "        text-align: right;\n",
              "    }\n",
              "</style>\n",
              "<table border=\"1\" class=\"dataframe\">\n",
              "  <thead>\n",
              "    <tr style=\"text-align: right;\">\n",
              "      <th></th>\n",
              "      <th>sepal_length</th>\n",
              "      <th>sepal_width</th>\n",
              "      <th>petal_length</th>\n",
              "      <th>petal_width</th>\n",
              "      <th>species</th>\n",
              "    </tr>\n",
              "  </thead>\n",
              "  <tbody>\n",
              "    <tr>\n",
              "      <th>0</th>\n",
              "      <td>5.1</td>\n",
              "      <td>3.5</td>\n",
              "      <td>1.4</td>\n",
              "      <td>0.2</td>\n",
              "      <td>setosa</td>\n",
              "    </tr>\n",
              "    <tr>\n",
              "      <th>1</th>\n",
              "      <td>4.9</td>\n",
              "      <td>3.0</td>\n",
              "      <td>1.4</td>\n",
              "      <td>0.2</td>\n",
              "      <td>setosa</td>\n",
              "    </tr>\n",
              "    <tr>\n",
              "      <th>2</th>\n",
              "      <td>4.7</td>\n",
              "      <td>3.2</td>\n",
              "      <td>1.3</td>\n",
              "      <td>0.2</td>\n",
              "      <td>setosa</td>\n",
              "    </tr>\n",
              "    <tr>\n",
              "      <th>3</th>\n",
              "      <td>4.6</td>\n",
              "      <td>3.1</td>\n",
              "      <td>1.5</td>\n",
              "      <td>0.2</td>\n",
              "      <td>setosa</td>\n",
              "    </tr>\n",
              "    <tr>\n",
              "      <th>4</th>\n",
              "      <td>5.0</td>\n",
              "      <td>3.6</td>\n",
              "      <td>1.4</td>\n",
              "      <td>0.2</td>\n",
              "      <td>setosa</td>\n",
              "    </tr>\n",
              "  </tbody>\n",
              "</table>\n",
              "</div>"
            ],
            "text/plain": [
              "   sepal_length  sepal_width  petal_length  petal_width species\n",
              "0           5.1          3.5           1.4          0.2  setosa\n",
              "1           4.9          3.0           1.4          0.2  setosa\n",
              "2           4.7          3.2           1.3          0.2  setosa\n",
              "3           4.6          3.1           1.5          0.2  setosa\n",
              "4           5.0          3.6           1.4          0.2  setosa"
            ]
          },
          "metadata": {
            "tags": []
          },
          "execution_count": 10
        }
      ]
    },
    {
      "cell_type": "markdown",
      "metadata": {
        "id": "26qAWDkIRRzO",
        "colab_type": "text"
      },
      "source": [
        "The following are the columns in the dataset"
      ]
    },
    {
      "cell_type": "code",
      "metadata": {
        "id": "FhmRQXKtPxxD",
        "colab_type": "code",
        "colab": {
          "base_uri": "https://localhost:8080/",
          "height": 68
        },
        "outputId": "67fdb2c4-d255-4d97-8f9c-23df27d351cc"
      },
      "source": [
        "df.columns"
      ],
      "execution_count": null,
      "outputs": [
        {
          "output_type": "execute_result",
          "data": {
            "text/plain": [
              "Index(['sepal_length', 'sepal_width', 'petal_length', 'petal_width',\n",
              "       'species'],\n",
              "      dtype='object')"
            ]
          },
          "metadata": {
            "tags": []
          },
          "execution_count": 11
        }
      ]
    },
    {
      "cell_type": "code",
      "metadata": {
        "id": "nZItYc2xPzgh",
        "colab_type": "code",
        "colab": {
          "base_uri": "https://localhost:8080/",
          "height": 221
        },
        "outputId": "70dbc811-8ec6-4af1-f29b-4a0d97fb5779"
      },
      "source": [
        "df.info()"
      ],
      "execution_count": null,
      "outputs": [
        {
          "output_type": "stream",
          "text": [
            "<class 'pandas.core.frame.DataFrame'>\n",
            "RangeIndex: 150 entries, 0 to 149\n",
            "Data columns (total 5 columns):\n",
            " #   Column        Non-Null Count  Dtype  \n",
            "---  ------        --------------  -----  \n",
            " 0   sepal_length  150 non-null    float64\n",
            " 1   sepal_width   150 non-null    float64\n",
            " 2   petal_length  150 non-null    float64\n",
            " 3   petal_width   150 non-null    float64\n",
            " 4   species       150 non-null    object \n",
            "dtypes: float64(4), object(1)\n",
            "memory usage: 6.0+ KB\n"
          ],
          "name": "stdout"
        }
      ]
    },
    {
      "cell_type": "markdown",
      "metadata": {
        "id": "9bePzW4ERZu6",
        "colab_type": "text"
      },
      "source": [
        "Seperating features and columns\n",
        "\n",
        "Not slicing the dataset. But just getting the column names"
      ]
    },
    {
      "cell_type": "code",
      "metadata": {
        "id": "QLNcEsYfP3JV",
        "colab_type": "code",
        "colab": {}
      },
      "source": [
        "features = ['sepal_length', 'sepal_width', 'petal_length', 'petal_width']\n",
        "classes = ['species']"
      ],
      "execution_count": null,
      "outputs": []
    },
    {
      "cell_type": "markdown",
      "metadata": {
        "id": "4wwx0RiNRc3I",
        "colab_type": "text"
      },
      "source": [
        "Calculating the pearson coefficients for every pair of features.\n",
        "\n",
        "The following function creates a dictionary called pearson_dict. The pearson_dict will hold information regarding pairs of variables that have pearason correlation of more than 0.85. pearson_dict will contain a key,value pair where the key is the variable name and value is a list in the form [count,[related_feature]]\n",
        "pearson_dict =  {var:[count,[related_feature]]}\n",
        "\n",
        "that is count implies the number of other attributes the 'var' is related to. and the following list contains those other attributes."
      ]
    },
    {
      "cell_type": "code",
      "metadata": {
        "id": "u79DJNFIP55y",
        "colab_type": "code",
        "colab": {
          "base_uri": "https://localhost:8080/",
          "height": 54
        },
        "outputId": "2ab84554-6de1-4874-a5aa-2ce753d86824"
      },
      "source": [
        "from scipy.stats import pearsonr\n",
        "pearson_dict = {}\n",
        "def calc_pearson(features):\n",
        "  #pearson_dict = {}\n",
        "  n = len(features)\n",
        "  for _ in range(n):\n",
        "    pearson_dict[features[_]]=[0,[]]\n",
        "\n",
        "  for i in range(n-1):\n",
        "    for j in range(i+1,n):\n",
        "      n_name=features[i]+'-'+features[j]\n",
        "      corr,_ = pearsonr(df[features[i]],df[features[j]])\n",
        "      if corr>0.85:\n",
        "        pearson_dict[features[i]][0] = pearson_dict[features[i]][0] + 1\n",
        "        pearson_dict[features[i]][1].append(features[j])\n",
        "        pearson_dict[features[j]][0] = pearson_dict[features[j]][0] + 1\n",
        "        pearson_dict[features[j]][1].append(features[i])\n",
        "\n",
        "  print(pearson_dict)\n",
        "\n",
        "\n",
        "calc_pearson(features)"
      ],
      "execution_count": null,
      "outputs": [
        {
          "output_type": "stream",
          "text": [
            "{'sepal_length': [1, ['petal_length']], 'sepal_width': [0, []], 'petal_length': [2, ['sepal_length', 'petal_width']], 'petal_width': [1, ['petal_length']]}\n"
          ],
          "name": "stdout"
        }
      ]
    },
    {
      "cell_type": "markdown",
      "metadata": {
        "id": "J7jwRd1DRgnW",
        "colab_type": "text"
      },
      "source": [
        "{'sepal_length': [1, ['petal_length']], 'sepal_width': [0, []], 'petal_length': [2, ['sepal_length', 'petal_width']], 'petal_width': [1, ['petal_length']]}\n",
        "\n",
        "The above dictionary is explained here:\n",
        "\n",
        "sepal_length is related to 1 other variable - petal_length\n",
        "\n",
        "sepal_width is not related to any variable\n",
        "\n",
        "petal_length is related to 2 other variables - sepal_length and petal_width\n",
        "\n",
        "petal_width is related to 1 other variable - petal_length\n"
      ]
    },
    {
      "cell_type": "code",
      "metadata": {
        "id": "uvTN-Q9QP8cS",
        "colab_type": "code",
        "colab": {
          "base_uri": "https://localhost:8080/",
          "height": 51
        },
        "outputId": "41f2eb12-7dc7-4818-8f16-f69a9c6f51e8"
      },
      "source": [
        "max_val = -1\n",
        "max_key = []\n",
        "for k,v in pearson_dict.items():\n",
        "  if v[0] > max_val:\n",
        "    max_val = v[0]\n",
        "    max_key = [k]\n",
        "    continue\n",
        "  if v[0] == max_val:\n",
        "    max_key.append(k)\n",
        "\n",
        "print(max_key)\n",
        "print(max_val)"
      ],
      "execution_count": null,
      "outputs": [
        {
          "output_type": "stream",
          "text": [
            "['petal_length']\n",
            "2\n"
          ],
          "name": "stdout"
        }
      ]
    },
    {
      "cell_type": "markdown",
      "metadata": {
        "id": "kSq4Km_5Rjbo",
        "colab_type": "text"
      },
      "source": [
        "The above code takes into account the maximum count value and the list of variables with that count value.\n",
        "\n",
        "that is , max_val = max(count)\n",
        "\n",
        "max_key = list of variable with count = max_val"
      ]
    },
    {
      "cell_type": "code",
      "metadata": {
        "id": "5HOi9wl9P-EX",
        "colab_type": "code",
        "colab": {
          "base_uri": "https://localhost:8080/",
          "height": 51
        },
        "outputId": "c3f4740a-30e2-41ed-b772-43061a1a894d"
      },
      "source": [
        "if max_val != 0:\n",
        "  for m in max_key:\n",
        "    maxx = pearson_dict[m]\n",
        "    for _ in range(maxx[0]):\n",
        "      pearson_dict[maxx[1][_]][0]= pearson_dict[maxx[1][_]][0] - 1\n",
        "      pearson_dict[maxx[1][_]][1].remove(m)\n",
        "    del pearson_dict[m]\n",
        "    features.remove(m)\n",
        "\n",
        "    print(pearson_dict)\n",
        "    print(features)"
      ],
      "execution_count": null,
      "outputs": [
        {
          "output_type": "stream",
          "text": [
            "{'sepal_length': [0, []], 'sepal_width': [0, []], 'petal_width': [0, []]}\n",
            "['sepal_length', 'sepal_width', 'petal_width']\n"
          ],
          "name": "stdout"
        }
      ]
    },
    {
      "cell_type": "markdown",
      "metadata": {
        "id": "-7ybq-vdRoSA",
        "colab_type": "text"
      },
      "source": [
        "Now the above code deletes the max_key variables from the pearson_dict and the rest are the necessary unrelated features.\n",
        "\n",
        "---\n",
        "\n"
      ]
    },
    {
      "cell_type": "markdown",
      "metadata": {
        "id": "bybRSdyaT-n4",
        "colab_type": "text"
      },
      "source": [
        "## Executing Pearson Correlation to Breast Cancer wisconsin **dataset**"
      ]
    },
    {
      "cell_type": "code",
      "metadata": {
        "id": "RbQzN-tPQCge",
        "colab_type": "code",
        "colab": {
          "base_uri": "https://localhost:8080/",
          "height": 204
        },
        "outputId": "cd71b311-6120-41c0-922d-8932686b7d22"
      },
      "source": [
        "path = \"https://raw.githubusercontent.com/jbrownlee/Datasets/master/breast-cancer-wisconsin.csv\"\n",
        "df = pd.read_csv(path,header=None)\n",
        "df.head()"
      ],
      "execution_count": null,
      "outputs": [
        {
          "output_type": "execute_result",
          "data": {
            "text/html": [
              "<div>\n",
              "<style scoped>\n",
              "    .dataframe tbody tr th:only-of-type {\n",
              "        vertical-align: middle;\n",
              "    }\n",
              "\n",
              "    .dataframe tbody tr th {\n",
              "        vertical-align: top;\n",
              "    }\n",
              "\n",
              "    .dataframe thead th {\n",
              "        text-align: right;\n",
              "    }\n",
              "</style>\n",
              "<table border=\"1\" class=\"dataframe\">\n",
              "  <thead>\n",
              "    <tr style=\"text-align: right;\">\n",
              "      <th></th>\n",
              "      <th>0</th>\n",
              "      <th>1</th>\n",
              "      <th>2</th>\n",
              "      <th>3</th>\n",
              "      <th>4</th>\n",
              "      <th>5</th>\n",
              "      <th>6</th>\n",
              "      <th>7</th>\n",
              "      <th>8</th>\n",
              "      <th>9</th>\n",
              "    </tr>\n",
              "  </thead>\n",
              "  <tbody>\n",
              "    <tr>\n",
              "      <th>0</th>\n",
              "      <td>5</td>\n",
              "      <td>1</td>\n",
              "      <td>1</td>\n",
              "      <td>1</td>\n",
              "      <td>2</td>\n",
              "      <td>1</td>\n",
              "      <td>3</td>\n",
              "      <td>1</td>\n",
              "      <td>1</td>\n",
              "      <td>2</td>\n",
              "    </tr>\n",
              "    <tr>\n",
              "      <th>1</th>\n",
              "      <td>5</td>\n",
              "      <td>4</td>\n",
              "      <td>4</td>\n",
              "      <td>5</td>\n",
              "      <td>7</td>\n",
              "      <td>10</td>\n",
              "      <td>3</td>\n",
              "      <td>2</td>\n",
              "      <td>1</td>\n",
              "      <td>2</td>\n",
              "    </tr>\n",
              "    <tr>\n",
              "      <th>2</th>\n",
              "      <td>3</td>\n",
              "      <td>1</td>\n",
              "      <td>1</td>\n",
              "      <td>1</td>\n",
              "      <td>2</td>\n",
              "      <td>2</td>\n",
              "      <td>3</td>\n",
              "      <td>1</td>\n",
              "      <td>1</td>\n",
              "      <td>2</td>\n",
              "    </tr>\n",
              "    <tr>\n",
              "      <th>3</th>\n",
              "      <td>6</td>\n",
              "      <td>8</td>\n",
              "      <td>8</td>\n",
              "      <td>1</td>\n",
              "      <td>3</td>\n",
              "      <td>4</td>\n",
              "      <td>3</td>\n",
              "      <td>7</td>\n",
              "      <td>1</td>\n",
              "      <td>2</td>\n",
              "    </tr>\n",
              "    <tr>\n",
              "      <th>4</th>\n",
              "      <td>4</td>\n",
              "      <td>1</td>\n",
              "      <td>1</td>\n",
              "      <td>3</td>\n",
              "      <td>2</td>\n",
              "      <td>1</td>\n",
              "      <td>3</td>\n",
              "      <td>1</td>\n",
              "      <td>1</td>\n",
              "      <td>2</td>\n",
              "    </tr>\n",
              "  </tbody>\n",
              "</table>\n",
              "</div>"
            ],
            "text/plain": [
              "   0  1  2  3  4   5  6  7  8  9\n",
              "0  5  1  1  1  2   1  3  1  1  2\n",
              "1  5  4  4  5  7  10  3  2  1  2\n",
              "2  3  1  1  1  2   2  3  1  1  2\n",
              "3  6  8  8  1  3   4  3  7  1  2\n",
              "4  4  1  1  3  2   1  3  1  1  2"
            ]
          },
          "metadata": {
            "tags": []
          },
          "execution_count": 17
        }
      ]
    },
    {
      "cell_type": "markdown",
      "metadata": {
        "id": "ootIUxLbSLYs",
        "colab_type": "text"
      },
      "source": [
        "Add the column names to the dataset\n",
        "\n",
        "['clump_thickness', 'unif_cell_size', 'unif_cell_shape',\n",
        "       'marg_adhesion', 'single_apith_cell', 'bare_nuclei', 'bland_chrom',\n",
        "       'norm_nucleoli', 'mitoses', 'class']"
      ]
    },
    {
      "cell_type": "code",
      "metadata": {
        "id": "gztSPiEXSV_q",
        "colab_type": "code",
        "colab": {
          "base_uri": "https://localhost:8080/",
          "height": 255
        },
        "outputId": "f7346ff8-8eaa-4688-a560-f14d39505947"
      },
      "source": [
        "df.columns = ['clump_thickness', 'unif_cell_size', 'unif_cell_shape', 'marg_adhesion',\n",
        "              'single_apith_cell', 'bare_nuclei', 'bland_chrom',\n",
        "       'norm_nucleoli', 'mitoses', 'class']\n",
        "df.head       \n"
      ],
      "execution_count": null,
      "outputs": [
        {
          "output_type": "execute_result",
          "data": {
            "text/plain": [
              "<bound method NDFrame.head of      clump_thickness  unif_cell_size  ...  mitoses  class\n",
              "0                  5               1  ...        1      2\n",
              "1                  5               4  ...        1      2\n",
              "2                  3               1  ...        1      2\n",
              "3                  6               8  ...        1      2\n",
              "4                  4               1  ...        1      2\n",
              "..               ...             ...  ...      ...    ...\n",
              "694                3               1  ...        1      2\n",
              "695                2               1  ...        1      2\n",
              "696                5              10  ...        2      4\n",
              "697                4               8  ...        1      4\n",
              "698                4               8  ...        1      4\n",
              "\n",
              "[699 rows x 10 columns]>"
            ]
          },
          "metadata": {
            "tags": []
          },
          "execution_count": 18
        }
      ]
    },
    {
      "cell_type": "code",
      "metadata": {
        "id": "aluKbADkQFlT",
        "colab_type": "code",
        "colab": {
          "base_uri": "https://localhost:8080/",
          "height": 306
        },
        "outputId": "bd87d100-a64b-491c-843b-75f18d7903f8"
      },
      "source": [
        "df.info()"
      ],
      "execution_count": null,
      "outputs": [
        {
          "output_type": "stream",
          "text": [
            "<class 'pandas.core.frame.DataFrame'>\n",
            "RangeIndex: 699 entries, 0 to 698\n",
            "Data columns (total 10 columns):\n",
            " #   Column             Non-Null Count  Dtype \n",
            "---  ------             --------------  ----- \n",
            " 0   clump_thickness    699 non-null    int64 \n",
            " 1   unif_cell_size     699 non-null    int64 \n",
            " 2   unif_cell_shape    699 non-null    int64 \n",
            " 3   marg_adhesion      699 non-null    int64 \n",
            " 4   single_apith_cell  699 non-null    int64 \n",
            " 5   bare_nuclei        699 non-null    object\n",
            " 6   bland_chrom        699 non-null    int64 \n",
            " 7   norm_nucleoli      699 non-null    int64 \n",
            " 8   mitoses            699 non-null    int64 \n",
            " 9   class              699 non-null    int64 \n",
            "dtypes: int64(9), object(1)\n",
            "memory usage: 54.7+ KB\n"
          ],
          "name": "stdout"
        }
      ]
    },
    {
      "cell_type": "code",
      "metadata": {
        "id": "IiU-tQhqSElJ",
        "colab_type": "code",
        "colab": {
          "base_uri": "https://localhost:8080/",
          "height": 85
        },
        "outputId": "f06860b0-5c64-4f9e-ccf3-8050f422d5ab"
      },
      "source": [
        "df.columns"
      ],
      "execution_count": null,
      "outputs": [
        {
          "output_type": "execute_result",
          "data": {
            "text/plain": [
              "Index(['clump_thickness', 'unif_cell_size', 'unif_cell_shape', 'marg_adhesion',\n",
              "       'single_apith_cell', 'bare_nuclei', 'bland_chrom', 'norm_nucleoli',\n",
              "       'mitoses', 'class'],\n",
              "      dtype='object')"
            ]
          },
          "metadata": {
            "tags": []
          },
          "execution_count": 20
        }
      ]
    },
    {
      "cell_type": "code",
      "metadata": {
        "id": "LUi9cMy1QHCT",
        "colab_type": "code",
        "colab": {
          "base_uri": "https://localhost:8080/",
          "height": 85
        },
        "outputId": "609b374f-8e36-40a8-f083-02bdc4378d51"
      },
      "source": [
        "df.replace('?',-99999,inplace=True)\n",
        "df['bare_nuclei'] = df['bare_nuclei'].astype(int)\n",
        "df.columns"
      ],
      "execution_count": null,
      "outputs": [
        {
          "output_type": "execute_result",
          "data": {
            "text/plain": [
              "Index(['clump_thickness', 'unif_cell_size', 'unif_cell_shape', 'marg_adhesion',\n",
              "       'single_apith_cell', 'bare_nuclei', 'bland_chrom', 'norm_nucleoli',\n",
              "       'mitoses', 'class'],\n",
              "      dtype='object')"
            ]
          },
          "metadata": {
            "tags": []
          },
          "execution_count": 21
        }
      ]
    },
    {
      "cell_type": "code",
      "metadata": {
        "id": "_N9y96A-QK70",
        "colab_type": "code",
        "colab": {}
      },
      "source": [
        "features = ['clump_thickness', 'unif_cell_size', 'unif_cell_shape',\n",
        "       'marg_adhesion', 'single_apith_cell', 'bare_nuclei', 'bland_chrom',\n",
        "       'norm_nucleoli', 'mitoses']\n",
        "classes = ['class']\n",
        "\n",
        "df = df.dropna()"
      ],
      "execution_count": null,
      "outputs": []
    },
    {
      "cell_type": "code",
      "metadata": {
        "id": "PeCbzZeJQNz5",
        "colab_type": "code",
        "colab": {
          "base_uri": "https://localhost:8080/",
          "height": 306
        },
        "outputId": "4a3e8efb-22c0-4f72-f54b-b0a2cb428f08"
      },
      "source": [
        "df.info()"
      ],
      "execution_count": null,
      "outputs": [
        {
          "output_type": "stream",
          "text": [
            "<class 'pandas.core.frame.DataFrame'>\n",
            "Int64Index: 699 entries, 0 to 698\n",
            "Data columns (total 10 columns):\n",
            " #   Column             Non-Null Count  Dtype\n",
            "---  ------             --------------  -----\n",
            " 0   clump_thickness    699 non-null    int64\n",
            " 1   unif_cell_size     699 non-null    int64\n",
            " 2   unif_cell_shape    699 non-null    int64\n",
            " 3   marg_adhesion      699 non-null    int64\n",
            " 4   single_apith_cell  699 non-null    int64\n",
            " 5   bare_nuclei        699 non-null    int64\n",
            " 6   bland_chrom        699 non-null    int64\n",
            " 7   norm_nucleoli      699 non-null    int64\n",
            " 8   mitoses            699 non-null    int64\n",
            " 9   class              699 non-null    int64\n",
            "dtypes: int64(10)\n",
            "memory usage: 60.1 KB\n"
          ],
          "name": "stdout"
        }
      ]
    },
    {
      "cell_type": "code",
      "metadata": {
        "id": "nZuBQlqhQPYE",
        "colab_type": "code",
        "colab": {
          "base_uri": "https://localhost:8080/",
          "height": 54
        },
        "outputId": "a490c7d2-4bc8-4494-a982-96f6a8113d7d"
      },
      "source": [
        "from scipy.stats import pearsonr\n",
        "pearson_dict = {}\n",
        "def calc_pearson(features):\n",
        "  #pearson_dict = {}\n",
        "  n = len(features)\n",
        "  for _ in range(n):\n",
        "    pearson_dict[features[_]]=[0,[]]\n",
        "\n",
        "  for i in range(n-1):\n",
        "    for j in range(i+1,n):\n",
        "      n_name=features[i]+'-'+features[j]\n",
        "      corr,_ = pearsonr(df[features[i]],df[features[j]])\n",
        "      if corr>0.85:\n",
        "        pearson_dict[features[i]][0] = pearson_dict[features[i]][0] + 1\n",
        "        pearson_dict[features[i]][1].append(features[j])\n",
        "        pearson_dict[features[j]][0] = pearson_dict[features[j]][0] + 1\n",
        "        pearson_dict[features[j]][1].append(features[i])\n",
        "\n",
        "  print(pearson_dict)\n",
        "\n",
        "\n",
        "calc_pearson(features)"
      ],
      "execution_count": null,
      "outputs": [
        {
          "output_type": "stream",
          "text": [
            "{'clump_thickness': [0, []], 'unif_cell_size': [1, ['unif_cell_shape']], 'unif_cell_shape': [1, ['unif_cell_size']], 'marg_adhesion': [0, []], 'single_apith_cell': [0, []], 'bare_nuclei': [0, []], 'bland_chrom': [0, []], 'norm_nucleoli': [0, []], 'mitoses': [0, []]}\n"
          ],
          "name": "stdout"
        }
      ]
    },
    {
      "cell_type": "code",
      "metadata": {
        "id": "0p2fLXPtQRd5",
        "colab_type": "code",
        "colab": {
          "base_uri": "https://localhost:8080/",
          "height": 51
        },
        "outputId": "41b72986-756e-46e9-908e-e2cb98fb5bff"
      },
      "source": [
        "max_val = -1\n",
        "max_key = []\n",
        "for k,v in pearson_dict.items():\n",
        "  if v[0] > max_val:\n",
        "    max_val = v[0]\n",
        "    max_key = [k]\n",
        "    continue\n",
        "  if v[0] == max_val:\n",
        "    max_key.append(k)\n",
        "\n",
        "print(max_key)\n",
        "print(max_val)"
      ],
      "execution_count": null,
      "outputs": [
        {
          "output_type": "stream",
          "text": [
            "['unif_cell_size', 'unif_cell_shape']\n",
            "1\n"
          ],
          "name": "stdout"
        }
      ]
    },
    {
      "cell_type": "markdown",
      "metadata": {
        "id": "9Hax826LTaN-",
        "colab_type": "text"
      },
      "source": [
        "Execute this only when atleast one pair is correlated."
      ]
    },
    {
      "cell_type": "code",
      "metadata": {
        "id": "2Psp8V_VQT_u",
        "colab_type": "code",
        "colab": {
          "base_uri": "https://localhost:8080/",
          "height": 71
        },
        "outputId": "0225aee5-9222-4f23-87e0-febe7f9e009a"
      },
      "source": [
        "if max_val != 0:\n",
        "  for m in max_key:\n",
        "    maxx = pearson_dict[m]\n",
        "    for _ in range(maxx[0]):\n",
        "      pearson_dict[maxx[1][_]][0]= pearson_dict[maxx[1][_]][0] - 1\n",
        "      pearson_dict[maxx[1][_]][1].remove(m)\n",
        "    del pearson_dict[m]\n",
        "\n",
        "    print(pearson_dict)"
      ],
      "execution_count": null,
      "outputs": [
        {
          "output_type": "stream",
          "text": [
            "{'clump_thickness': [0, []], 'unif_cell_shape': [0, []], 'marg_adhesion': [0, []], 'single_apith_cell': [0, []], 'bare_nuclei': [0, []], 'bland_chrom': [0, []], 'norm_nucleoli': [0, []], 'mitoses': [0, []]}\n",
            "{'clump_thickness': [0, []], 'marg_adhesion': [0, []], 'single_apith_cell': [0, []], 'bare_nuclei': [0, []], 'bland_chrom': [0, []], 'norm_nucleoli': [0, []], 'mitoses': [0, []]}\n"
          ],
          "name": "stdout"
        }
      ]
    },
    {
      "cell_type": "code",
      "metadata": {
        "id": "YZruI9EmTOfd",
        "colab_type": "code",
        "colab": {}
      },
      "source": [
        ""
      ],
      "execution_count": null,
      "outputs": []
    }
  ]
}