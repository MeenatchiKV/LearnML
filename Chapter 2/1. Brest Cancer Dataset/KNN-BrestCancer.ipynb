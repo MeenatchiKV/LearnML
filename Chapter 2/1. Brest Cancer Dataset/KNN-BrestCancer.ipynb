{
 "cells": [
  {
   "cell_type": "markdown",
   "metadata": {},
   "source": [
    "# APPLYING KNN ON BREST CANCER DATASET"
   ]
  },
  {
   "cell_type": "markdown",
   "metadata": {},
   "source": [
    "Importing necessary python packages\n",
    "\n",
    "the KNN algorithm we use here is a part of sklearn package in the neighbors module."
   ]
  },
  {
   "cell_type": "code",
   "execution_count": 1,
   "metadata": {},
   "outputs": [],
   "source": [
    "import numpy as np\n",
    "import pandas as pd\n",
    "import random\n",
    "\n",
    "from sklearn import model_selection, preprocessing, neighbors\n",
    "\n",
    "import matplotlib.pyplot as plt\n",
    "from matplotlib import style\n",
    "\n",
    "style.use('fivethirtyeight')"
   ]
  },
  {
   "cell_type": "markdown",
   "metadata": {},
   "source": [
    "You can download the dataset from the website\n",
    "\n",
    "https://archive.ics.uci.edu/ml/datasets/Breast+Cancer+Wisconsin+%28Original%29\n",
    "\n",
    "Reading in the brest cancer dataset.\n",
    "\n",
    "The dataset contains unknown values which is represented as '?'.\n",
    "We replace the '?' with an outlier '-99999'.\n",
    "\n",
    "We are dropping off the ['id'] column, because that is randomly generated and is of no use to our model."
   ]
  },
  {
   "cell_type": "code",
   "execution_count": 2,
   "metadata": {
    "scrolled": true
   },
   "outputs": [
    {
     "name": "stdout",
     "output_type": "stream",
     "text": [
      "   clump_thickness  unif_cell_size  unif_cell_shape  marg_adhesion  \\\n",
      "0                5               1                1              1   \n",
      "1                5               4                4              5   \n",
      "2                3               1                1              1   \n",
      "3                6               8                8              1   \n",
      "4                4               1                1              3   \n",
      "\n",
      "   single_apith_cell bare_nuclei  bland_chrom  norm_nucleoli  mitoses  class  \n",
      "0                  2           1            3              1        1      2  \n",
      "1                  7          10            3              2        1      2  \n",
      "2                  2           2            3              1        1      2  \n",
      "3                  3           4            3              7        1      2  \n",
      "4                  2           1            3              1        1      2  \n"
     ]
    }
   ],
   "source": [
    "df = pd.read_csv('dataset/breast-cancer-wisconsin.data')\n",
    "\n",
    "df.replace('?',-99999,inplace=True)\n",
    "df.drop(['id'],1,inplace=True)\n",
    "\n",
    "print(df.head())"
   ]
  },
  {
   "cell_type": "markdown",
   "metadata": {},
   "source": [
    "Seperating the features and labels.\n",
    "features, x is all the column values except the label/ class column\n",
    "label, y is the class column.\n",
    "\n",
    "We are using the train_test_split() function from the model_selecton module to divide the dataset in to two\n",
    "i.e., training and testing and here the testing dataset size is 20% of the original dataset."
   ]
  },
  {
   "cell_type": "code",
   "execution_count": 3,
   "metadata": {},
   "outputs": [],
   "source": [
    "x = np.array(df.drop(['class'],1))\n",
    "y = np.array(df['class'])\n",
    "\n",
    "x_train, x_test, y_train, y_test = model_selection.train_test_split(x,y,test_size=0.2)"
   ]
  },
  {
   "cell_type": "markdown",
   "metadata": {},
   "source": [
    "We are iterating the entire loop for 25 times so as to train the model 25 times and the accuracy is taken as the average of all the accuracies.\n",
    "\n",
    "the classifier here is the KNeighborClassifier from the neigbors module. n_jobs = -1 makes use of maximum number of threads.\n",
    "fitting the classifier using the training data\n",
    "and accuracy is calculated from the score function."
   ]
  },
  {
   "cell_type": "code",
   "execution_count": 4,
   "metadata": {},
   "outputs": [
    {
     "name": "stdout",
     "output_type": "stream",
     "text": [
      "Accuracy = 0.9571428571428566\n"
     ]
    }
   ],
   "source": [
    "accuracies = []\n",
    "for i in range(25):\n",
    "    clf = neighbors.KNeighborsClassifier(n_jobs=-1)\n",
    "    clf.fit(x_train,y_train)\n",
    "\n",
    "    accuracy = clf.score(x_test,y_test)\n",
    "    accuracies.append(accuracy)\n",
    "    \n",
    "print(\"Accuracy =\",sum(accuracies)/len(accuracies))"
   ]
  },
  {
   "cell_type": "markdown",
   "metadata": {},
   "source": [
    "Predicting the model with sample data.\n",
    "\n",
    "The reshaping of the sample data has to be done to indicate that the numpy array contains n number of samples with maximum columns possible. i.e., (len(sample),-1)"
   ]
  },
  {
   "cell_type": "code",
   "execution_count": 5,
   "metadata": {
    "scrolled": true
   },
   "outputs": [
    {
     "name": "stdout",
     "output_type": "stream",
     "text": [
      "[4 2 2 2]\n"
     ]
    }
   ],
   "source": [
    "data = np.array([[8,2,1,2,0,4,4,1,9],[4,2,1,0,1,4,2,1,0],[9,1,1,2,3,1,4,1,8],[7,2,1,1,3,4,4,1,0]])\n",
    "prediction = clf.predict(data.reshape(len(data),-1))\n",
    "print(prediction)"
   ]
  },
  {
   "cell_type": "markdown",
   "metadata": {},
   "source": [
    "The predictted data is classified in to two groups 2 and 4.\n",
    "\n",
    "2 for benign\n",
    "4 for malignant"
   ]
  }
 ],
 "metadata": {
  "kernelspec": {
   "display_name": ".kernal",
   "language": "python",
   "name": ".kernal"
  },
  "language_info": {
   "codemirror_mode": {
    "name": "ipython",
    "version": 3
   },
   "file_extension": ".py",
   "mimetype": "text/x-python",
   "name": "python",
   "nbconvert_exporter": "python",
   "pygments_lexer": "ipython3",
   "version": "3.6.3"
  }
 },
 "nbformat": 4,
 "nbformat_minor": 2
}
